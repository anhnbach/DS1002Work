{
  "nbformat": 4,
  "nbformat_minor": 0,
  "metadata": {
    "colab": {
      "provenance": [],
      "include_colab_link": true
    },
    "kernelspec": {
      "name": "python3",
      "display_name": "Python 3"
    },
    "language_info": {
      "name": "python"
    }
  },
  "cells": [
    {
      "cell_type": "markdown",
      "metadata": {
        "id": "view-in-github",
        "colab_type": "text"
      },
      "source": [
        "<a href=\"https://colab.research.google.com/github/anhnbach/DS1002Work/blob/main/Copy_of_14_TextGeneration.ipynb\" target=\"_parent\"><img src=\"https://colab.research.google.com/assets/colab-badge.svg\" alt=\"Open In Colab\"/></a>"
      ]
    },
    {
      "cell_type": "markdown",
      "source": [
        "## Final homework assignment:  generating text from a corpus\n",
        "\n",
        "Due Friday 3 May at 5 pm"
      ],
      "metadata": {
        "id": "tWbrZqoW5281"
      }
    },
    {
      "cell_type": "markdown",
      "source": [
        "We begin by loading all of Shakespeare's plays into a text file, and separating them into individual words.  This is made easy by the fact that someone already made a giant text file of these plays for us, and put it online.\n",
        "\n",
        "[Note that by changing the url in the following code chunk, you can load any text file that lives online in this way . . . see below.]\n",
        "\n",
        "Run the following code.  It should output a list of ten words, starting with 'From' and ending with 'rose'."
      ],
      "metadata": {
        "id": "7tMMjgkjF7gk"
      }
    },
    {
      "cell_type": "code",
      "source": [
        "from urllib.request import urlopen            #package for reading info from the web\n",
        "url='https://ocw.mit.edu/ans7870/6/6.006/s08/lecturenotes/files/t8.shakespeare.txt'   #web address\n",
        "text = urlopen(url).read().decode('utf-8')    #open web address, read file, convert to text\n",
        "shakespeare_words=text.split()[1651:]         #split text into words (not including preamble)\n",
        "shakespeare_words[:10]                        #display the first 10 words"
      ],
      "metadata": {
        "id": "PoW71ljm2GS-",
        "colab": {
          "base_uri": "https://localhost:8080/"
        },
        "outputId": "be7e2d31-10e3-4448-93ff-2ca0ade80c6f"
      },
      "execution_count": 3,
      "outputs": [
        {
          "output_type": "execute_result",
          "data": {
            "text/plain": [
              "['From',\n",
              " 'fairest',\n",
              " 'creatures',\n",
              " 'we',\n",
              " 'desire',\n",
              " 'increase,',\n",
              " 'That',\n",
              " 'thereby',\n",
              " \"beauty's\",\n",
              " 'rose']"
            ]
          },
          "metadata": {},
          "execution_count": 3
        }
      ]
    },
    {
      "cell_type": "markdown",
      "source": [
        "## 1. `nextwords` practice\n",
        "\n",
        "Create a practice function called `createNextwordsPractice` which takes a list of words called `wordlist` and returns a dictionary called `nextwordsPractice`. The keys of `nextwordsPractice` should be all the words in `wordlist`, and the value for any given key should be a list of all the words that follow the key word somewhere in the original `wordlist`.\n",
        "\n"
      ],
      "metadata": {
        "id": "AIeohQaAHRF8"
      }
    },
    {
      "cell_type": "code",
      "source": [
        "def createNextwordsPractice(wordlist):\n",
        "  nextwordsPractice = {}\n",
        "  # Put your code here\n",
        "\n",
        "  for i in range(len(wordlist) - 1):\n",
        "    #looping through wordlist\n",
        "    currentWord = wordlist[i]\n",
        "    #getting word at index i\n",
        "    nextWord = wordlist[i + 1]\n",
        "    #getting the next word next to currentWord\n",
        "\n",
        "    if currentWord in nextwordsPractice:\n",
        "      #if the word is in nextwordsPractice then add word that follows to the list [currentWord]\n",
        "      nextwordsPractice[currentWord].append(nextWord)\n",
        "    else:\n",
        "      nextwordsPractice[currentWord] = [nextWord]\n",
        "      #set list [currentWord] to list [nextWord] if the word is not\n",
        "\n",
        "  return nextwordsPractice"
      ],
      "metadata": {
        "id": "2XZa2K3C3InW"
      },
      "execution_count": 74,
      "outputs": []
    },
    {
      "cell_type": "markdown",
      "source": [
        "Run the following code:"
      ],
      "metadata": {
        "id": "FH3N2raWjtfd"
      }
    },
    {
      "cell_type": "code",
      "source": [
        "practice = createNextwordsPractice(shakespeare_words)\n",
        "practice['From']"
      ],
      "metadata": {
        "id": "P3M8beYAjiie",
        "colab": {
          "base_uri": "https://localhost:8080/"
        },
        "outputId": "a15cb285-619b-4b22-a4b5-0cabeb7bd8a3"
      },
      "execution_count": 75,
      "outputs": [
        {
          "output_type": "execute_result",
          "data": {
            "text/plain": [
              "['fairest',\n",
              " 'his',\n",
              " 'sullen',\n",
              " 'limits',\n",
              " 'hands',\n",
              " 'whence',\n",
              " 'where',\n",
              " 'me',\n",
              " 'this',\n",
              " 'thy',\n",
              " 'hence',\n",
              " 'thee,',\n",
              " 'you',\n",
              " 'heaven',\n",
              " 'her',\n",
              " 'simple',\n",
              " 'whence',\n",
              " 'below',\n",
              " 'lowest',\n",
              " 'courtly',\n",
              " 'son',\n",
              " 'the',\n",
              " 'the',\n",
              " 'Sicyon,',\n",
              " 'Alexandria',\n",
              " 'Silvius,',\n",
              " 'mine',\n",
              " 'the',\n",
              " 'firm',\n",
              " 'Egypt',\n",
              " 'Antony',\n",
              " 'thine',\n",
              " 'that',\n",
              " 'my',\n",
              " 'me',\n",
              " 'henceforth',\n",
              " 'tyrant',\n",
              " 'seventeen',\n",
              " 'miserable',\n",
              " 'whom',\n",
              " 'my',\n",
              " 'whence,',\n",
              " 'me',\n",
              " 'me',\n",
              " 'slaves',\n",
              " 'every',\n",
              " 'rascals',\n",
              " 'whom',\n",
              " 'where',\n",
              " \"th'\",\n",
              " 'Rome',\n",
              " 'off',\n",
              " 'these',\n",
              " 'twelve',\n",
              " \"th'\",\n",
              " 'whence?',\n",
              " 'Rome.',\n",
              " 'thy',\n",
              " 'Gallia',\n",
              " 'fairies',\n",
              " 'off',\n",
              " \"th'\",\n",
              " 'most',\n",
              " 'thy',\n",
              " 'youth',\n",
              " 'every',\n",
              " 'whose',\n",
              " 'so',\n",
              " 'one',\n",
              " 'this',\n",
              " 'the',\n",
              " 'east',\n",
              " 'action',\n",
              " 'my',\n",
              " 'this',\n",
              " 'Leonati',\n",
              " 'her',\n",
              " 'chance',\n",
              " 'south',\n",
              " 'our',\n",
              " 'whence',\n",
              " 'the',\n",
              " 'top',\n",
              " 'this',\n",
              " 'our',\n",
              " 'that',\n",
              " 'me,',\n",
              " 'fashion',\n",
              " 'the',\n",
              " 'another',\n",
              " 'Hamlet?',\n",
              " 'whence',\n",
              " 'whom',\n",
              " \"Rumour's\",\n",
              " 'whence',\n",
              " 'the',\n",
              " 'a',\n",
              " 'a',\n",
              " 'enemies',\n",
              " 'every',\n",
              " 'this',\n",
              " 'the',\n",
              " 'open',\n",
              " 'whom',\n",
              " \"glist'ring\",\n",
              " 'our',\n",
              " 'him,',\n",
              " 'his',\n",
              " 'him,',\n",
              " 'camp',\n",
              " 'this',\n",
              " 'off',\n",
              " 'helmet',\n",
              " 'him',\n",
              " 'off',\n",
              " 'Lionel',\n",
              " 'John',\n",
              " 'famous',\n",
              " 'envious',\n",
              " 'whence',\n",
              " 'thence',\n",
              " 'bought',\n",
              " 'thee,',\n",
              " 'top',\n",
              " 'thence',\n",
              " 'meaning',\n",
              " \"treason's\",\n",
              " 'such',\n",
              " 'thee',\n",
              " 'Ireland',\n",
              " \"Clifford's\",\n",
              " 'your',\n",
              " 'London',\n",
              " 'whence',\n",
              " 'off',\n",
              " 'whence',\n",
              " 'Scotland',\n",
              " 'such',\n",
              " 'worthy',\n",
              " 'these',\n",
              " 'giving',\n",
              " 'France?',\n",
              " 'Ravenspurgh',\n",
              " 'shelves',\n",
              " 'those',\n",
              " 'his',\n",
              " 'sincere',\n",
              " 'every',\n",
              " 'foreign',\n",
              " 'princes',\n",
              " 'these',\n",
              " 'any',\n",
              " 'Ampthill,',\n",
              " 'your',\n",
              " 'hence',\n",
              " 'her',\n",
              " 'henceforth',\n",
              " 'France',\n",
              " 'whom',\n",
              " 'that',\n",
              " 'first',\n",
              " 'north',\n",
              " 'all',\n",
              " 'a',\n",
              " 'his',\n",
              " 'France',\n",
              " 'forth',\n",
              " 'whose',\n",
              " 'forth',\n",
              " 'this',\n",
              " 'out',\n",
              " 'forth',\n",
              " 'that',\n",
              " 'the',\n",
              " 'which',\n",
              " 'whom',\n",
              " 'what',\n",
              " 'the',\n",
              " 'hence',\n",
              " 'this',\n",
              " 'Goneril',\n",
              " 'those',\n",
              " 'seasons',\n",
              " 'that',\n",
              " 'her',\n",
              " 'the',\n",
              " 'a',\n",
              " 'tawny',\n",
              " \"reason's\",\n",
              " 'my',\n",
              " 'which',\n",
              " 'my',\n",
              " 'the',\n",
              " \"women's\",\n",
              " 'whence',\n",
              " \"women's\",\n",
              " 'morn',\n",
              " 'what',\n",
              " 'Fife,',\n",
              " 'hence',\n",
              " 'this',\n",
              " 'thence',\n",
              " 'whom',\n",
              " 'the',\n",
              " 'this',\n",
              " 'whence',\n",
              " 'what',\n",
              " 'over-credulous',\n",
              " 'which',\n",
              " 'too',\n",
              " 'whom',\n",
              " 'his',\n",
              " 'fasting',\n",
              " 'thee;',\n",
              " \"flow'ry\",\n",
              " 'thine',\n",
              " 'such',\n",
              " 'our',\n",
              " 'such',\n",
              " 'the',\n",
              " 'the',\n",
              " 'whom',\n",
              " 'Tripolis,',\n",
              " 'Lisbon,',\n",
              " 'out',\n",
              " 'any',\n",
              " 'brassy',\n",
              " 'stubborn',\n",
              " 'both,',\n",
              " 'the',\n",
              " 'the',\n",
              " 'time',\n",
              " 'Athens',\n",
              " \"lovers'\",\n",
              " 'Perigouna,',\n",
              " 'our',\n",
              " 'sleeping',\n",
              " \"monster's\",\n",
              " 'these',\n",
              " 'off',\n",
              " 'the',\n",
              " 'my',\n",
              " 'Claudio,',\n",
              " 'men',\n",
              " 'year',\n",
              " 'her',\n",
              " 'him',\n",
              " 'one',\n",
              " 'jealousy!',\n",
              " 'whence',\n",
              " 'the',\n",
              " 'any',\n",
              " 'the',\n",
              " 'this',\n",
              " 'giving',\n",
              " 'where',\n",
              " 'forth',\n",
              " 'some',\n",
              " 'Ravenspurgh',\n",
              " 'the',\n",
              " 'forth',\n",
              " 'off',\n",
              " 'my',\n",
              " \"Richard's\",\n",
              " 'out',\n",
              " 'sun',\n",
              " \"plume-pluck'd\",\n",
              " 'which',\n",
              " 'whence',\n",
              " 'your',\n",
              " 'whence',\n",
              " 'cold',\n",
              " 'wayward',\n",
              " 'that',\n",
              " 'this',\n",
              " 'my',\n",
              " 'the',\n",
              " 'all',\n",
              " 'forth',\n",
              " 'which',\n",
              " 'all',\n",
              " 'Tamworth',\n",
              " 'the',\n",
              " 'ancient',\n",
              " 'forth',\n",
              " \"Love's\",\n",
              " 'forth',\n",
              " 'off',\n",
              " 'this',\n",
              " 'all',\n",
              " 'Florence,',\n",
              " 'mine',\n",
              " 'the',\n",
              " 'what',\n",
              " 'me,',\n",
              " 'bogs,',\n",
              " 'me',\n",
              " 'Milan',\n",
              " 'toe',\n",
              " 'eaves',\n",
              " 'strange',\n",
              " 'whence',\n",
              " 'Isidore:',\n",
              " 'our',\n",
              " 'forth',\n",
              " 'change',\n",
              " \"gen'ral\",\n",
              " 'high',\n",
              " 'Alcibiades',\n",
              " 'niggard',\n",
              " 'weary',\n",
              " 'where',\n",
              " 'whence',\n",
              " 'this',\n",
              " 'these',\n",
              " 'thousand',\n",
              " 'heaven!',\n",
              " 'isles',\n",
              " 'his',\n",
              " 'Troy.',\n",
              " \"Cupid's\",\n",
              " 'false',\n",
              " 'certain',\n",
              " 'Troy',\n",
              " 'heart',\n",
              " 'whence,',\n",
              " 'my',\n",
              " 'the',\n",
              " 'the',\n",
              " 'my',\n",
              " 'a',\n",
              " 'hence,',\n",
              " 'Milan.',\n",
              " 'whom?',\n",
              " 'my',\n",
              " 'heartiness,',\n",
              " 'east,',\n",
              " 'course',\n",
              " 'him',\n",
              " 'our',\n",
              " 'all',\n",
              " 'your',\n",
              " 'those',\n",
              " 'the',\n",
              " \"Dis's\",\n",
              " 'the',\n",
              " 'my',\n",
              " 'thy',\n",
              " 'off']"
            ]
          },
          "metadata": {},
          "execution_count": 75
        }
      ]
    },
    {
      "cell_type": "code",
      "source": [
        "practice['rose']"
      ],
      "metadata": {
        "id": "W5FCOXElICLb",
        "colab": {
          "base_uri": "https://localhost:8080/"
        },
        "outputId": "fddb6bd4-8eae-4e00-84af-42d6676f2adf"
      },
      "execution_count": 51,
      "outputs": [
        {
          "output_type": "execute_result",
          "data": {
            "text/plain": [
              "['might',\n",
              " 'looks',\n",
              " 'is',\n",
              " 'of',\n",
              " 'Of',\n",
              " 'may',\n",
              " 'will',\n",
              " 'of',\n",
              " 'From',\n",
              " 'and',\n",
              " 'of',\n",
              " 'both',\n",
              " 'with',\n",
              " 'from',\n",
              " 'with',\n",
              " 'with',\n",
              " 'side.',\n",
              " 'red,',\n",
              " 'too.',\n",
              " 'in',\n",
              " 'a',\n",
              " 'a',\n",
              " 'I',\n",
              " 'against',\n",
              " 'that',\n",
              " 'and',\n",
              " 'from',\n",
              " 'again,',\n",
              " 'Lest',\n",
              " 'against',\n",
              " 'Than',\n",
              " \"distill'd\",\n",
              " 'on',\n",
              " 'up',\n",
              " 'in',\n",
              " 'wither.',\n",
              " 'and',\n",
              " 'By',\n",
              " 'again?',\n",
              " 'he']"
            ]
          },
          "metadata": {},
          "execution_count": 51
        }
      ]
    },
    {
      "cell_type": "code",
      "source": [
        "practice['rose.']"
      ],
      "metadata": {
        "id": "Vr57wNx5BO4K",
        "colab": {
          "base_uri": "https://localhost:8080/"
        },
        "outputId": "587fa9c5-f609-4522-c70b-d738215c3943"
      },
      "execution_count": 33,
      "outputs": [
        {
          "output_type": "execute_result",
          "data": {
            "text/plain": [
              "['It']"
            ]
          },
          "metadata": {},
          "execution_count": 33
        }
      ]
    },
    {
      "cell_type": "markdown",
      "source": [
        "## 2. `nextwords` for real:  new sentences.\n",
        "\n",
        "Next, write a new function called `createNextwords` which takes a `wordlist` and returns a dictionary of `nextwords`, but now with a new additional feature.  \n",
        "In addition to the keys from problem 1, add a special key to the dictionary, which will be the symbol '%'.  This key will signify the first word of a sentence. When scanning the wordlist to construct the `nextwords` dictionary, normally you would add `wordlist[i+1]` to the list `nextwords[wordlist[i]]`. However, if `wordlist[i]` ends with a period, then you should instead add `wordlist[i+1]` to the list nextwords['%']. Also add the very first word of `wordlist` to nextwords['%'].\n",
        "\n",
        "\n",
        "You should be able to produce this output:\n",
        "```\n",
        "> shakespeare_nextwords=createNextwords(shakespeare_words)\n",
        "> shakespeare_nextwords['Rose']\n",
        "['at', 'or', 'or', 'and']\n",
        "\n",
        "> shakespeare_nextwords['rose.']\n",
        "[]\n",
        "\n",
        "> len(shakespeare_nextwords['%'])\n",
        "76543\n",
        "```"
      ],
      "metadata": {
        "id": "t221x1X3iRVA"
      }
    },
    {
      "cell_type": "code",
      "source": [
        "def createNextwords(wordlist):\n",
        "  nextwords = {}\n",
        "  # Put your code here\n",
        "  nextwords[\"%\"] = [wordlist[0]]\n",
        "  #setting nextwords[\"%\"] as the first word in wordlist\n",
        "\n",
        "  for i in range(len(wordlist) - 1):\n",
        "    #looping through wordlist\n",
        "    currentWord = wordlist[i]\n",
        "    #getting word at index i\n",
        "    nextWord = wordlist[i + 1]\n",
        "    #getting the next word next to currentWord\n",
        "\n",
        "\n",
        "    if currentWord.endswith(\".\"):\n",
        "        nextwords[\"%\"].append(nextWord)\n",
        "        #checking if the word ends with a period and adding it to nextwords[\"%\"] if it does\n",
        "    else:\n",
        "        if currentWord in nextwords:\n",
        "          nextwords[currentWord].append(nextWord)\n",
        "          #if the currentWord in nextwords then add word that follows to the list [currentWord]\n",
        "        else:\n",
        "          nextwords[currentWord] = [nextWord]\n",
        "           #set list [currentWord] to list [nextWord] if the word is not\n",
        "\n",
        "  return nextwords"
      ],
      "metadata": {
        "id": "Ze_-Uv2alRWX"
      },
      "execution_count": 83,
      "outputs": []
    },
    {
      "cell_type": "markdown",
      "source": [
        "Run the following code:"
      ],
      "metadata": {
        "id": "x7bamoxBlX6Q"
      }
    },
    {
      "cell_type": "code",
      "source": [
        "shakespeare_nextwords = createNextwords(shakespeare_words)\n",
        "\n",
        "print(shakespeare_nextwords['Rose'])\n",
        "print(len(shakespeare_nextwords['%']))"
      ],
      "metadata": {
        "id": "xv4ANlzvlZ2e",
        "colab": {
          "base_uri": "https://localhost:8080/"
        },
        "outputId": "8f8093d6-0379-4a8c-d1d4-ed647a2b76c8"
      },
      "execution_count": 79,
      "outputs": [
        {
          "output_type": "stream",
          "name": "stdout",
          "text": [
            "['at', 'or', 'or', 'and']\n",
            "76543\n"
          ]
        }
      ]
    },
    {
      "cell_type": "code",
      "source": [
        "print(len(shakespeare_nextwords['rose']))"
      ],
      "metadata": {
        "id": "NsLW7PYYCj1r",
        "colab": {
          "base_uri": "https://localhost:8080/"
        },
        "outputId": "bedf161e-b5f2-47f8-9f68-adc36a8edbbb"
      },
      "execution_count": 80,
      "outputs": [
        {
          "output_type": "stream",
          "name": "stdout",
          "text": [
            "40\n"
          ]
        }
      ]
    },
    {
      "cell_type": "code",
      "source": [
        "print(shakespeare_nextwords['rose.'])\n",
        "#I could not get the code to return an empty list without messing up general structure and not causing errors"
      ],
      "metadata": {
        "id": "NyjLxUKiIPqG",
        "colab": {
          "base_uri": "https://localhost:8080/",
          "height": 139
        },
        "outputId": "6dfd3314-5553-4ea5-eda6-7d315e0b6188"
      },
      "execution_count": 84,
      "outputs": [
        {
          "output_type": "error",
          "ename": "KeyError",
          "evalue": "'rose.'",
          "traceback": [
            "\u001b[0;31m---------------------------------------------------------------------------\u001b[0m",
            "\u001b[0;31mKeyError\u001b[0m                                  Traceback (most recent call last)",
            "\u001b[0;32m<ipython-input-84-5ec62f6c566a>\u001b[0m in \u001b[0;36m<cell line: 1>\u001b[0;34m()\u001b[0m\n\u001b[0;32m----> 1\u001b[0;31m \u001b[0mprint\u001b[0m\u001b[0;34m(\u001b[0m\u001b[0mshakespeare_nextwords\u001b[0m\u001b[0;34m[\u001b[0m\u001b[0;34m'rose.'\u001b[0m\u001b[0;34m]\u001b[0m\u001b[0;34m)\u001b[0m\u001b[0;34m\u001b[0m\u001b[0;34m\u001b[0m\u001b[0m\n\u001b[0m",
            "\u001b[0;31mKeyError\u001b[0m: 'rose.'"
          ]
        }
      ]
    },
    {
      "cell_type": "markdown",
      "source": [
        "## 3.  Make your own Shakespeare play\n",
        "\n",
        "Okay, that may be a bit of an exaggeration.  Anyway, next up is text generation.  \n",
        "We'll need the choice function:"
      ],
      "metadata": {
        "id": "BCIAfYSIX3VC"
      }
    },
    {
      "cell_type": "code",
      "source": [
        "from random import choice"
      ],
      "metadata": {
        "id": "rbBHDv55Biae"
      },
      "execution_count": 37,
      "outputs": []
    },
    {
      "cell_type": "markdown",
      "source": [
        "This function chooses a random element from a list.  Run this code a few times:"
      ],
      "metadata": {
        "id": "-vCM3Z0BmAw9"
      }
    },
    {
      "cell_type": "code",
      "source": [
        "choice([1, 17, 34, 289])"
      ],
      "metadata": {
        "colab": {
          "base_uri": "https://localhost:8080/"
        },
        "id": "FGMf-UmAl_uf",
        "outputId": "4c496a69-653d-4ef4-97cb-af95f1c1f125"
      },
      "execution_count": 39,
      "outputs": [
        {
          "output_type": "execute_result",
          "data": {
            "text/plain": [
              "1"
            ]
          },
          "metadata": {},
          "execution_count": 39
        }
      ]
    },
    {
      "cell_type": "markdown",
      "source": [
        "Now, create a function called `makePlay(nextwords,n)` which takes a dictionary `nextwords` and a number `n`, and follows these steps:\n",
        "1. Define an empty `newplay` string.  (I did this for you.)\n",
        "2. Set `currentword` equal to '%'.\n",
        "3. Start a for-loop that will run `n` times.\n",
        "4. Randomly choose a word from the list `nextwords[currentword]`.\n",
        "5. Add the chosen word to `newplay`, followed by a space `' '` character.\n",
        "6. If the chosen word ends in a period, add a newline character '\\n' and set `currentword` equal to `%`.\n",
        "7. Otherwise, set `currentword` equal to the chosen word.\n",
        "8. Go back to step 4.\n",
        "9. When all `n` iterations have finished, your function should return `newplay`."
      ],
      "metadata": {
        "id": "ZmLqxclQYMpl"
      }
    },
    {
      "cell_type": "code",
      "source": [
        "def makePlay(nextwords,n):\n",
        "  newplay=''\n",
        "  #YOUR CODE HERE\n",
        "  currentword = \"%\"\n",
        "  for i in range(n):\n",
        "    chosenWord = choice(nextwords.get(currentword))\n",
        "    newplay += chosenWord + \" \"\n",
        "\n",
        "    if chosenWord.endswith(\".\"):\n",
        "      newplay += \"\\n\"\n",
        "      currentWord = \"%\"\n",
        "    else:\n",
        "      currentWord = chosenWord\n",
        "\n",
        "  return newplay\n"
      ],
      "metadata": {
        "id": "gMxDF-MiYqD2"
      },
      "execution_count": 44,
      "outputs": []
    },
    {
      "cell_type": "markdown",
      "source": [
        "Now create a 1000 word Shakesperian play by running the following code:"
      ],
      "metadata": {
        "id": "v_uCxqDZtuhP"
      }
    },
    {
      "cell_type": "code",
      "source": [
        "nextwords=createNextwords(shakespeare_words)\n",
        "newplay=makePlay(nextwords,1000)\n",
        "print(newplay)"
      ],
      "metadata": {
        "id": "KVtzPXWWEdDR",
        "colab": {
          "base_uri": "https://localhost:8080/"
        },
        "outputId": "c91a49b3-fd29-4747-adcc-f7f2372ae4e3"
      },
      "execution_count": 45,
      "outputs": [
        {
          "output_type": "stream",
          "name": "stdout",
          "text": [
            "Is I SIR This Enter CELIA. \n",
            "Boot, You Have The Nay, What EVANS. \n",
            "OLIVER. \n",
            "Let Up Spirits, How CADE. \n",
            "I ELINOR. \n",
            "Therefore, Spent! It 'Tis I Fury, Where Will Another Friar And Exeunt Exit MRS. \n",
            "[Trumpets KING Give For Yet I Are Nurse. \n",
            "If Dispatch, ALL. \n",
            "Wilt NYM. \n",
            "How Fie But SEBASTIAN. \n",
            "KING Go Call You Why, Exit Why, There Her TRINCULO. \n",
            "Ladies, CORIOLANUS. \n",
            "Give Hates MENENIUS. \n",
            "All. \n",
            "TRANIO. \n",
            "Cut Indeed, GLOUCESTER. \n",
            "I Who Mer. \n",
            "Do IMOGEN. \n",
            "What But Rey. \n",
            "Before The Be To But OBERON. \n",
            "What, Cox If GRUMIO. \n",
            "ORLEANS Why I Now There Thou What 24 KING SERVANT. \n",
            "And, Wounded If My CHAMBERLAIN. \n",
            "Which Name Stephano! No, See [The ALL. \n",
            "Why Let Now Say'st Both, Richard KING Shall These ANTONIO. \n",
            "When [Aside] 'Have ROSALIND. \n",
            "Call The I Thou EXETER. \n",
            "A For CLEOPATRA. \n",
            "And He O Now, Stay, Search Thou Look, Exeunt Give What DEMETRIUS. \n",
            "DUKE. \n",
            "Give Bernardo? [aside] What Exeunt Exeunt Ay, LUCIO. \n",
            "MRS. \n",
            "Sit, Ham. \n",
            "Did TAMORA. \n",
            "Blest It Quick, We'll Trip, I Within Therefore, KING. \n",
            "Thou My Bene. \n",
            "She LAFEU. \n",
            "LYSANDER. \n",
            "Besides, Mus. \n",
            "Enter Then SECOND NURSE. \n",
            "FORD. \n",
            "[They O ROSALIND. \n",
            "Censure That It Yes, I What If Will O, Alb. \n",
            "Sir, By Moreover, Intended I CHARLES. \n",
            "You PISTOL. \n",
            "Ay, [Exit Even Alack, Sweet ANTONIO. \n",
            "By Enter Thou IACHIMO. \n",
            "O Where Bene. \n",
            "FLUELLEN. \n",
            "Not ANTONIO. \n",
            "Hapless, Be I Enter Car. \n",
            "This BELARIUS. \n",
            "Where He I Let's That If Shall GEORGE. \n",
            "When Say Why, Why Come, Come Well, TITUS. \n",
            "Death! There Jul. \n",
            "But KATHERINA. \n",
            "You Either [To What Steal In [To Go, I Will't King. \n",
            "The Simple Did What Caesar, Why GENTLEMEN. \n",
            "If Stay, Thou SNOUT. \n",
            "SECOND NORFOLK. \n",
            "He That's In I'll Nor Exeunt BELARIUS. \n",
            "Go, Marry, I Hear My When And I GLOUCESTER. \n",
            "Peace, Sicilia. \n",
            "HELENA. \n",
            "Go This When So, Flourish. \n",
            "To I Though I CRESSIDA. \n",
            "My OCTAVIUS. \n",
            "We Where's You Yet Fie, [Drum What LEPIDUS. \n",
            "A I So BAPTISTA. \n",
            "Lady. \n",
            "Go Mine I I THIRD [To Take Know't, I The Tell Romeo, Your There's That Though DROMIO SCENE Upon Say Your That TROILUS. \n",
            "LE Methinks All LEPIDUS. \n",
            "Take PAROLLES. \n",
            "HUBERT. \n",
            "From Thus EMILIA. \n",
            "I'll The Come. \n",
            "YORK. \n",
            "Cor. \n",
            "Speak [Falls LADY He SHALLOW. \n",
            "SPEED. \n",
            "Alack, JOHN. \n",
            "ULYSSES. \n",
            "My If Here What! His TITUS. \n",
            "2. \n",
            "God To-morrow, Come, At Villains, Relate That CONSTABLE. \n",
            "BOTH DICK. \n",
            "Here Most Either Thou! O SHALLOW. \n",
            "Come, Mine POMPEY. \n",
            "The MACDUFF. \n",
            "DIANA. \n",
            "KING But So, Thou FIRST You'll Are He Why FORD. \n",
            "I We This Then CLOTEN. \n",
            "The Yet The Kent. \n",
            "RICHMOND. \n",
            "Dost Were Not Brutus You His Where Edward, In Here's Go My We MRS. \n",
            "Let Your What She God Do [They Then CLIFFORD. \n",
            "In We As And Sit, TIMON. \n",
            "Ham. \n",
            "Gentlemen No, MRS. \n",
            "LADY Something KING No You Truly, SCENE And IMOGEN. \n",
            "Exit Exit A ROSALIND. \n",
            "KING Even Is CELIA. \n",
            "Ham. \n",
            "Our 'Tis Return, I Take Be Faith, I SANDYS. \n",
            "But My Nay, Both I GREMIO. \n",
            "Say, What CLARENCE. \n",
            "He'll THIRD So MAECENAS. \n",
            "Come, Pedro. \n",
            "I I Why Ay, I BERTRAM. \n",
            "If NERISSA. \n",
            "The The Claud. \n",
            "I O Call And This He What Enter Margaret! Of BARNARDINE. \n",
            "Come [Unmasks.] The KING. \n",
            "Lift RODERIGO. \n",
            "What She Deserve What Nay, KING AUTOLYCUS. \n",
            "And This My KING My That SECOND Good He TITANIA. \n",
            "'Tis Where That GRATIANO. \n",
            "Bene. \n",
            "TITUS. \n",
            "LUCIUS. \n",
            "Re-enter NESTOR. \n",
            "Say, KING. \n",
            "BAPTISTA. \n",
            "Good Yes, WARWICK. \n",
            "O To She CAMILLO. \n",
            "SIR 'What What! VINCENTIO. \n",
            "I' Their If One WESTMORELAND. \n",
            "Ay, And Out, Prithee Profane Is Let's I Is A Call Most Sometime Draw Caius Have He ORLANDO. \n",
            "Go JULIA. \n",
            "MACDUFF. \n",
            "I It What BERTRAM. \n",
            "O, Go, I Can Sweet Ay, OBERON. \n",
            "My And Even Most BASTARD. \n",
            "The The Do Watch. \n",
            "And How FOURTH Prince. \n",
            "O BASSANIO. \n",
            "Or I To Exit LORD Faster What SERVANT. \n",
            "CAESAR. \n",
            "COUNTESS. \n",
            "Construe The Ah, Trebonius O [Trumpets Exeunt Rom. \n",
            "MACBETH. \n",
            "But I Good SPEED. \n",
            "In Five I Not Exeunt Fran. \n",
            "Walk Humh! How She ELECTRONIC So! What My Begin, My O Where We Lear. \n",
            "She Falls. \n",
            "ELECTRONIC Exeunt Wherein DEMETRIUS. \n",
            "The My Consort? MARSHAL. \n",
            "But CLEOPATRA. \n",
            "Liberty! BONA. \n",
            "SCENE My KEEPER. \n",
            "And, VIRGILIA. \n",
            "Oft So And, Blest Thus I Peopled O I Exeunt This Good Must Exit In Ay, I All But PISANIO. \n",
            "It O Come, The Exeunt APEMANTUS. \n",
            "I FORD] FIRST PERCY. \n",
            "They Do My KATHARINE. \n",
            "MARIANA. \n",
            "Patience, A Bassanio [Throws As Tyb. \n",
            "GLOUCESTER. \n",
            "Come, DUKE. \n",
            "[Whispering] PORTER. \n",
            "Where Ben. \n",
            "His Well, Count Exit It DEMETRIUS. \n",
            "Pray I Saint I'll Nay, Discard, Now, A [To CLOWN. \n",
            "Enter DROMIO Do Mine KATHERINE. \n",
            "Who Iden, If To-night He I In Therefore FALSTAFF. \n",
            "What! King. \n",
            "OTHELLO. \n",
            "They PAULINA. \n",
            "These QUEEN 'What's Now I Welcome, SECOND [aside] KING By'r 'Tis Allons! ANTONY. \n",
            "But By Count It And [Alarum] KING Patience, The Rest Then Asmath, Now, And PROTEUS. \n",
            "LADY Rosaline, Cambio. \n",
            "Will Car. \n",
            "Yet I My If Mer. \n",
            "[They Well If Let He I'll He's We DUKE. \n",
            "By Exeunt Good How FALSTAFF. \n",
            "Iago GLOUCESTER. \n",
            "How LAFEU. \n",
            "Ay, O, BASSANIO. \n",
            "These CYMBELINE. \n",
            "Go, The Nay, [The The Soldiers, He O, Here's I Blister'd Peruse Fie, Enter Methink'st Master Catesby, What The That's Once FORD. \n",
            "ANTIPHOLUS Thou't Farewell, She I Upon Boy! You This Pardon, Hang You FLAVIUS. \n",
            "Watch. \n",
            "When CLEOPATRA. \n",
            "He 3. \n",
            "Those When An't FORD. \n",
            "Now, As TRANIO. \n",
            "Osr. \n",
            "It Nothing, Ay, As JAQUENETTA. \n",
            "Scene Go Now, YOUNG My Rich Is Such Exit TITUS. \n",
            "Abide Exeunt Away, After MALCOLM. \n",
            "No, Lead [Reads] SHYLOCK. \n",
            "Calpurnia! Then To Sirrah, When O Exeunt Come, The 'Tis O, Good Laer. \n",
            "PANDARUS. \n",
            "Out, I Now Sound There, ANTIPHOLUS Go Your Come, They ANTONIO. \n",
            "PROHIBITED He 'Tis Sir, What O CHARLES. \n",
            "Return, Exit But And PISANIO. \n",
            "OLIVIA. \n",
            "Your [Strikes COUNTESS. \n",
            "O DOCTOR. \n",
            "May This Exit And And In Harder, Instruct Nay, Is AENEAS. \n",
            "Thus MARINER. \n",
            "I LUCIO. \n",
            "Go From So And ANGELO. \n",
            "What Exeunt I O, Purpose Wast I They Nurse, ADRIANA. \n",
            "Second But These That FIRST I'll Therefore, LODOVICO. \n",
            "Ham. \n",
            "A SEBASTIAN. \n",
            "How Re-enter LAUNCE. \n",
            "Methinks 'Tis WOLSEY. \n",
            "Rebellion, Ay, Where TROILUS. \n",
            "Queen. \n",
            "Exit Hero, Clubs, ANNE. \n",
            "BOLINGBROKE. \n",
            "It VALERIA. \n",
            "I [within] Why, Had Fellow, I WARWICK. \n",
            "Peace I'll KATHERINA. \n",
            "Have Call Upon Vouchsafe \n"
          ]
        }
      ]
    },
    {
      "cell_type": "markdown",
      "source": [
        "At this point you might enjoy finding other sources of text on the internet and replacing the url at the top of this notebook. You can use song lyrics, news articles, etc. You just need to find files ending with '.txt'. Alternatively, you can copy and paste any block of text from any file into colab, assign it to the variable `text`, and then use wordlist=text.split() to get a list of words."
      ],
      "metadata": {
        "id": "cHcYHBcNu65y"
      }
    },
    {
      "cell_type": "markdown",
      "source": [
        "## Bonus:\n",
        "\n",
        "Recall the following recursive function that we used to define the Fibonacci numbers:"
      ],
      "metadata": {
        "id": "SOZ_vzwJoG45"
      }
    },
    {
      "cell_type": "code",
      "source": [
        "count = 0\n",
        "\n",
        "def fibonacci(n):\n",
        "  global count\n",
        "  count +=1\n",
        "  # Base cases: F(0) = 0, F(1) = 1\n",
        "  if n == 0:\n",
        "    return 0\n",
        "  elif n == 1:\n",
        "    return 1\n",
        "  else:\n",
        "    # Recursive case: F(n) = F(n-1) + F(n-2)\n",
        "    return fibonacci(n - 1) + fibonacci(n - 2)\n",
        "\n",
        "fibonacci(17)\n",
        "print(count)"
      ],
      "metadata": {
        "id": "KTj2L--_oQDu",
        "colab": {
          "base_uri": "https://localhost:8080/"
        },
        "outputId": "01f4bef0-b707-4ed3-b36f-a1487fd54b38"
      },
      "execution_count": 20,
      "outputs": [
        {
          "output_type": "stream",
          "name": "stdout",
          "text": [
            "5167\n"
          ]
        }
      ]
    },
    {
      "cell_type": "markdown",
      "source": [
        "Here is the question.  If you run this line of code:  \n",
        "`fibonacci(17)`  \n",
        "how many times does the function `fibonacci()` get called?  \n",
        "(The answer is not 1597, which is the value returned by the function.)"
      ],
      "metadata": {
        "id": "C-PtiPKwod0m"
      }
    },
    {
      "cell_type": "markdown",
      "source": [
        "The function fibonacci is called 5167 times."
      ],
      "metadata": {
        "id": "NkUhzGKhL_fl"
      }
    }
  ]
}