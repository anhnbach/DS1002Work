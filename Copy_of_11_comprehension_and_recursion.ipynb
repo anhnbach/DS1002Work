{
  "nbformat": 4,
  "nbformat_minor": 0,
  "metadata": {
    "colab": {
      "provenance": [],
      "include_colab_link": true
    },
    "kernelspec": {
      "name": "python3",
      "display_name": "Python 3"
    },
    "language_info": {
      "name": "python"
    }
  },
  "cells": [
    {
      "cell_type": "markdown",
      "metadata": {
        "id": "view-in-github",
        "colab_type": "text"
      },
      "source": [
        "<a href=\"https://colab.research.google.com/github/anhnbach/DS1002Work/blob/main/Copy_of_11_comprehension_and_recursion.ipynb\" target=\"_parent\"><img src=\"https://colab.research.google.com/assets/colab-badge.svg\" alt=\"Open In Colab\"/></a>"
      ]
    },
    {
      "cell_type": "markdown",
      "source": [
        "## Assignment 11\n",
        "Due Monday 15 April at noon"
      ],
      "metadata": {
        "id": "y6mGkyWrqph3"
      }
    },
    {
      "cell_type": "markdown",
      "source": [
        "### List comprehension\n",
        "\n",
        "Many of you resisted my recommendation to use list comprehensions in the previous assignment, and so my hand is forced.  You made me require it.\n",
        "\n",
        "\n",
        "Problem 1.  For each function you write below, you may assume the list being sent to the function will contain the appropriate data type.\n",
        "\n",
        "Use list comprehensions to create a function that will take a list `l` and return . . ."
      ],
      "metadata": {
        "id": "eBJulsWBngse"
      }
    },
    {
      "cell_type": "markdown",
      "source": [
        "(a) . . . a list containing the absolute value of each element of `l`"
      ],
      "metadata": {
        "id": "1h4hKDEqo5T_"
      }
    },
    {
      "cell_type": "code",
      "source": [
        "l = [1, -2, 3, -4, 5, 6 ,7, 8, -9]\n",
        "\n",
        "def abs_value(l):\n",
        "  return [abs(i) for i in l]\n",
        "#the list comprehension is a for loop where it returns the absolute value of\n",
        "#the element at index i in list l\n",
        "abs_value(l)"
      ],
      "metadata": {
        "id": "LNltsHhtngLS",
        "colab": {
          "base_uri": "https://localhost:8080/"
        },
        "outputId": "2c1837ee-2e33-4f07-9a61-012fb94051d7"
      },
      "execution_count": 20,
      "outputs": [
        {
          "output_type": "execute_result",
          "data": {
            "text/plain": [
              "[1, 2, 3, 4, 5, 6, 7, 8, 9]"
            ]
          },
          "metadata": {},
          "execution_count": 20
        }
      ]
    },
    {
      "cell_type": "markdown",
      "source": [
        "(b) . . . a list containing `True` for each even number in `l` and `False` for each odd number in `l`"
      ],
      "metadata": {
        "id": "mqIbzaTvpLCV"
      }
    },
    {
      "cell_type": "code",
      "source": [
        "def abs_value(l):\n",
        "  return [i%2 == 0 for i in l]\n",
        "#the list comprehension is a for loop that returns the boolean of whether\n",
        "#the remainder when dividing by 2 of element at index i is equal to 0\n",
        "abs_value(l)"
      ],
      "metadata": {
        "id": "0OTpQFX9pK0t",
        "colab": {
          "base_uri": "https://localhost:8080/"
        },
        "outputId": "91673463-3eb9-47ce-f73d-bee7ce23baef"
      },
      "execution_count": 25,
      "outputs": [
        {
          "output_type": "execute_result",
          "data": {
            "text/plain": [
              "[False, True, False, True, False, True, False, True, False]"
            ]
          },
          "metadata": {},
          "execution_count": 25
        }
      ]
    },
    {
      "cell_type": "markdown",
      "source": [
        "(c) . . . a list containing only the numbers in `l` that are divisible by 3"
      ],
      "metadata": {
        "id": "9yqVg2hApUY9"
      }
    },
    {
      "cell_type": "code",
      "source": [
        "def abs_value(l):\n",
        "  return [i for i in l if i%3 == 0]\n",
        "#the list comprehension is a for loop that returns the element at index i in list l if\n",
        "#the remainder of the element when dividing by 3 is 0\n",
        "abs_value(l)"
      ],
      "metadata": {
        "id": "2mP_1aYZpUF4",
        "colab": {
          "base_uri": "https://localhost:8080/"
        },
        "outputId": "6b6bf477-6451-4705-d661-c93c8468cc32"
      },
      "execution_count": 8,
      "outputs": [
        {
          "output_type": "execute_result",
          "data": {
            "text/plain": [
              "[3, 6, -9]"
            ]
          },
          "metadata": {},
          "execution_count": 8
        }
      ]
    },
    {
      "cell_type": "markdown",
      "source": [
        "(d) . . . a list containing only the words in `l` whose first and last letters are the same"
      ],
      "metadata": {
        "id": "2yClgYZupef1"
      }
    },
    {
      "cell_type": "code",
      "source": [
        "l = [\"hannah\", \"dawn\", \"lawn\", \"yawn\", \"racecar\"]\n",
        "def abs_value(l):\n",
        "  return [i for i in l if i[0] == i[-1]]\n",
        "#the list comprehension is a for loop that returns the element at index i in list if\n",
        "#the letter at index 0 of the element is the same as the letter at the end (index[-1])\n",
        "abs_value(l)"
      ],
      "metadata": {
        "id": "-l7XnemMpeCi",
        "colab": {
          "base_uri": "https://localhost:8080/"
        },
        "outputId": "ee4aa58f-e4ec-43d2-cba7-ef70232892e7"
      },
      "execution_count": 15,
      "outputs": [
        {
          "output_type": "execute_result",
          "data": {
            "text/plain": [
              "['hannah', 'racecar']"
            ]
          },
          "metadata": {},
          "execution_count": 15
        }
      ]
    },
    {
      "cell_type": "markdown",
      "source": [
        "(e) . . . a list containing the first letter of each word in `l` that ends with a vowel"
      ],
      "metadata": {
        "id": "1mqMysFKppZS"
      }
    },
    {
      "cell_type": "code",
      "source": [
        "l = [\"you\", \"hello\", \"dawn\", \"yawn\", \"racecar\"]\n",
        "vowels = [\"a\", \"e\", \"i\", \"o\", \"u\"]\n",
        "#creating a list that has all of the vowels\n",
        "\n",
        "def words_vowels(l):\n",
        "  return [i[0] for i in l if i[-1] in vowels]\n",
        "#the list comprehension is a for loop that returns the first letter in the element\n",
        "#at index i if it ends in a letter in vowels\n",
        "words_vowels(l)"
      ],
      "metadata": {
        "id": "1Gi3andbppDc",
        "colab": {
          "base_uri": "https://localhost:8080/"
        },
        "outputId": "38635f79-8067-4f9f-cce4-9b96976857b7"
      },
      "execution_count": 27,
      "outputs": [
        {
          "output_type": "execute_result",
          "data": {
            "text/plain": [
              "['y', 'h']"
            ]
          },
          "metadata": {},
          "execution_count": 27
        }
      ]
    },
    {
      "cell_type": "markdown",
      "source": [
        "### Multiplication as a recursive process\n",
        "Problem 2.  Write a recursive function that computes the product of two positive integers `a` and `b` by adding `a` to itself `b` times.\n",
        "\n",
        "Hints:  \n",
        "1. if `b=1` then the product is `a`.\n",
        "2. if `b>1` then the product is what you get by adding `a` to `a * (b-1)`.\n",
        "\n",
        "Note:  the purpose of this exercise is to practice writing recursive functions.  Of course you can trivially ask for `a*b` and get the correct answer but that is worth no points.  Your function should not use any multiplications.\n"
      ],
      "metadata": {
        "id": "iV4ysawxjsiE"
      }
    },
    {
      "cell_type": "code",
      "execution_count": 51,
      "metadata": {
        "id": "wc9Y1d7ejrvH",
        "colab": {
          "base_uri": "https://localhost:8080/"
        },
        "outputId": "15b7f50a-6a12-470b-a83a-46a7aeeba2a4"
      },
      "outputs": [
        {
          "output_type": "execute_result",
          "data": {
            "text/plain": [
              "15"
            ]
          },
          "metadata": {},
          "execution_count": 51
        }
      ],
      "source": [
        "def product(a, b):\n",
        "    if b == 0:\n",
        "      return 0\n",
        "    else:\n",
        "      a =  a + product(a, b - 1)\n",
        "      return a\n",
        "#function loops and adds a to itself b times, each iteration will add a until b reaches 0\n",
        "#where it adds 0 and returns a\n",
        "product(5,3)\n"
      ]
    },
    {
      "cell_type": "markdown",
      "source": [
        "### Division as a recursive process\n",
        "\n",
        "Problem 3:  Write a recursive function that takes two positive integers `a` and `b` and returns the quotient `q` and remainder `r` obtained when `a` is divided by `b`.\n",
        "\n",
        "Hints:  \n",
        "1. If `a<b` then what should `q` and `r` be?\n",
        "\n",
        "2. If `a>b` then think about how `q` and `r` are related to the values you would get from dividing `a-b` by `b`."
      ],
      "metadata": {
        "id": "A5xI1LxDkxn0"
      }
    },
    {
      "cell_type": "code",
      "source": [
        "def division(a,b):\n",
        "  if a < b:\n",
        "    r = a\n",
        "    q = 0\n",
        "    #q = 0 because a is not divisible by b when a < b, r is a (original value)\n",
        "    return q, r\n",
        "  else:\n",
        "    q, r = division(a - b, b)\n",
        "    #function calls itself and subtracts a from b until a < b where it returns q and r\n",
        "    q += 1\n",
        "    #adding 1 for each iteration, q is how many times a can subtract b\n",
        "    return q, r\n",
        "\n",
        "\n",
        "division(15, 4)"
      ],
      "metadata": {
        "id": "_3aRmkgJkxUW",
        "colab": {
          "base_uri": "https://localhost:8080/"
        },
        "outputId": "7ac0e965-f62b-41a9-fd91-1ff7befc1919"
      },
      "execution_count": 40,
      "outputs": [
        {
          "output_type": "execute_result",
          "data": {
            "text/plain": [
              "(3, 3)"
            ]
          },
          "metadata": {},
          "execution_count": 40
        }
      ]
    },
    {
      "cell_type": "markdown",
      "source": [
        "### The dot product of two vectors\n",
        "\n",
        "Problem 4.  Write a recursive function `dot()` that takes two lists of numbers, of equal length, and returns the sum of the products of the elements of the same index from each list. For example, if `V=[1,2,3]` and `W=[4,5,6]` then the function should return the value $(1 \\cdot 4) + (2\\cdot 5) + (3\\cdot 6)$, which equals 32.  In physics and linear algebra, this is called the \"dot product\" of the vectors `V` and `W`.\n",
        "\n",
        "Other examples:\n",
        "```\n",
        "dot([3],[4])\n",
        "12\n",
        "\n",
        "dot([1,1,0],[2,7,17])\n",
        "9\n",
        "```\n",
        "Hints:\n",
        "1. How is `dot(V,W)` related to `dot(V[1:],W[1:])`?\n",
        "2. What should happen if the lists are empty?"
      ],
      "metadata": {
        "id": "OkBK7gvglJ3u"
      }
    },
    {
      "cell_type": "code",
      "source": [
        "def dot(v, w):\n",
        "  if len(v) == 0 or len(w) == 0:\n",
        "    return 0\n",
        "    #if the lists are empty then it should return 0\n",
        "  else:\n",
        "    first = v[0] * w[0]\n",
        "    #creating the iteration loop by multiplying the first value of v and w\n",
        "    product = dot(v[1:], w[1:])\n",
        "    #calling the function itself with the next value of the lists at index 0 of v and w\n",
        "    #until the list is empty where it adds 0\n",
        "    result = first + product\n",
        "    #adding the from the first value and subsequent products\n",
        "    return result\n",
        "\n",
        "v=[1,2,3]\n",
        "w=[4,5,6]\n",
        "\n",
        "dot(v, w)"
      ],
      "metadata": {
        "id": "LZXs6lkslJqm",
        "colab": {
          "base_uri": "https://localhost:8080/"
        },
        "outputId": "d8a240fd-c82d-4c18-a7f6-e5ffa431e53c"
      },
      "execution_count": 39,
      "outputs": [
        {
          "output_type": "execute_result",
          "data": {
            "text/plain": [
              "32"
            ]
          },
          "metadata": {},
          "execution_count": 39
        }
      ]
    },
    {
      "cell_type": "code",
      "source": [
        "dot([3],[4])"
      ],
      "metadata": {
        "colab": {
          "base_uri": "https://localhost:8080/"
        },
        "id": "mw0-fBGecGzY",
        "outputId": "78bdaa60-d6e5-4214-c65b-49e067dc4c0f"
      },
      "execution_count": 38,
      "outputs": [
        {
          "output_type": "execute_result",
          "data": {
            "text/plain": [
              "12"
            ]
          },
          "metadata": {},
          "execution_count": 38
        }
      ]
    },
    {
      "cell_type": "code",
      "source": [
        "dot([1,1,0],[2,7,17])"
      ],
      "metadata": {
        "colab": {
          "base_uri": "https://localhost:8080/"
        },
        "id": "oCQd0U_OXT3i",
        "outputId": "cf8ce7c3-4eaa-486d-a38f-ef56cf951445"
      },
      "execution_count": 37,
      "outputs": [
        {
          "output_type": "execute_result",
          "data": {
            "text/plain": [
              "9"
            ]
          },
          "metadata": {},
          "execution_count": 37
        }
      ]
    }
  ]
}