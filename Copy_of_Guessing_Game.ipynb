{
  "nbformat": 4,
  "nbformat_minor": 0,
  "metadata": {
    "colab": {
      "provenance": [],
      "authorship_tag": "ABX9TyMR9zoYNx1CPZVhDHQSQ0hb",
      "include_colab_link": true
    },
    "kernelspec": {
      "name": "python3",
      "display_name": "Python 3"
    },
    "language_info": {
      "name": "python"
    }
  },
  "cells": [
    {
      "cell_type": "markdown",
      "metadata": {
        "id": "view-in-github",
        "colab_type": "text"
      },
      "source": [
        "<a href=\"https://colab.research.google.com/github/anhnbach/DS1002Work/blob/main/Copy_of_Guessing_Game.ipynb\" target=\"_parent\"><img src=\"https://colab.research.google.com/assets/colab-badge.svg\" alt=\"Open In Colab\"/></a>"
      ]
    },
    {
      "cell_type": "code",
      "execution_count": 1,
      "metadata": {
        "colab": {
          "base_uri": "https://localhost:8080/"
        },
        "id": "n89nCMf4e0fY",
        "outputId": "eea00fb5-9603-4eec-902c-ac2290f4d2da"
      },
      "outputs": [
        {
          "output_type": "stream",
          "name": "stdout",
          "text": [
            "The computer will generate a random whole number between 0 and 100. You should try to guess what that the computer generates! Enter a whole number (0 - 100)\n",
            "no\n",
            "Please enter a whole number!\n",
            "50.5\n",
            "Please enter a whole number!\n",
            "-100\n",
            "Please enter a number within the range!\n",
            "1000\n",
            "Please enter a number within the range!\n",
            "50\n",
            "Too high!\n",
            "40\n",
            "Too high!\n",
            "-40\n",
            "Please enter a number within the range!\n",
            "30.5\n",
            "Please enter a whole number!\n",
            "30\n",
            "Too high!\n",
            "20\n",
            "Too high!\n",
            "10\n",
            "Too low!\n",
            "15\n",
            "You got it!\n",
            "You took 6 attempts\n"
          ]
        }
      ],
      "source": [
        "import numpy as np\n",
        "\n",
        "value = np.random.randint(0, 100)\n",
        "\n",
        "correct = False\n",
        "numguess = 1\n",
        "\n",
        "print(\"The computer will generate a random whole number between 0 and 100. You should try to guess what that the computer generates! Enter a whole number (0 - 100)\")\n",
        "\n",
        "while correct == False:\n",
        "  userguess = input()\n",
        "  try:\n",
        "    if int(userguess) <= 0 or int(userguess) >= 100:\n",
        "      print(\"Please enter a number within the range!\")\n",
        "\n",
        "    else:\n",
        "        if int(userguess) == value:\n",
        "          correct = True\n",
        "          print(\"You got it!\")\n",
        "          print(\"You took \" + str(numguess) + \" attempts\")\n",
        "        else:\n",
        "          numguess += 1\n",
        "          if int(userguess) >= value:\n",
        "            print(\"Too high!\")\n",
        "          else:\n",
        "            print(\"Too low!\")\n",
        "  except:\n",
        "    print(\"Please enter a whole number!\")\n",
        "\n",
        "\n",
        "\n"
      ]
    },
    {
      "cell_type": "markdown",
      "source": [
        "It took me approximately 40 minutes to complete this assignment."
      ],
      "metadata": {
        "id": "aiEAKBxAoj9D"
      }
    }
  ]
}