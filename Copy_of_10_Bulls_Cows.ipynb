{
  "cells": [
    {
      "cell_type": "markdown",
      "metadata": {
        "id": "view-in-github",
        "colab_type": "text"
      },
      "source": [
        "<a href=\"https://colab.research.google.com/github/anhnbach/DS1002Work/blob/main/Copy_of_10_Bulls_Cows.ipynb\" target=\"_parent\"><img src=\"https://colab.research.google.com/assets/colab-badge.svg\" alt=\"Open In Colab\"/></a>"
      ]
    },
    {
      "cell_type": "markdown",
      "metadata": {
        "id": "lSwr8T3SNrkj"
      },
      "source": [
        "## Bulls and Cows:\n",
        "### Another guessing game.\n",
        "### Assignment due Wednesday 10 April at 10 am\n",
        "\n",
        "General instructions:\n",
        "\n",
        "1. You may work in teams of up to three people.  As usual, if you do this, make sure all names are clearly displayed at the top of your submission, and all team members should submit the same GitHub URL.\n",
        "\n",
        "1. Use only basic Python code.  Do not use `numpy` arrays or functions.\n",
        "\n",
        "2. Practice utilizing the coding concepts we have studied.  \n",
        "\n",
        "3. Write docstrings for all your functions.\n",
        "\n"
      ]
    },
    {
      "cell_type": "markdown",
      "metadata": {
        "id": "qrWRyeI2NwHA"
      },
      "source": [
        "### Goal:  program this game\n",
        "In this assignment you will program a version of an old game called Bulls and Cows.  It is somewhat similar to Wordle, but with numbers instead of words (and various other differences . . . read carefully!).\n",
        "\n",
        "The game is played like this:  \n",
        "1. The computer will choose a secret code that the player is trying to guess.\n",
        "2. The secret code will be 4 digits long.  It will use only the digits 1-6, and it will have no repeated digits.  For example the secret code might be 1326 or 6241 but it cannot be 2652 or 4913 or 2601.\n",
        "3. The computer will prompt the user for a guess, and the user will guess.  The guess must follow the same rules (4 digits long, only use digits 1-6, no repeats).  The program should not allow an invalid guess.\n",
        "4. After each guess, the computer will give feedback to the user as follows:  \n",
        "(i) Each digit of the guess that is in the secret code and in the correct position is called a Bull (B).  \n",
        "(ii) Each digit of the guess that exists somewhere in the secret code, but *not* in the same position as in the guess, is called a Cow (C).  \n",
        "(iii) A digit of the guess that doesn't occur anywhere in the secret code is called a miss (X).  \n",
        "The computer will inform the user how many Bulls, how many Cows, and how many misses the user's guess had.  \n",
        "The feedback will always start with B's, then list C's, then list X's.  \n",
        "For example if the secret code is 1326  \n",
        "and the guess is 4316  \n",
        "then the computer should respond with \"BBCX\"  \n",
        "because there are two Bulls (the 3 and the 6 are Bulls, because they occur in the same position in the guess as in the secret code),  \n",
        "one Cow (the 1, which is a correct digit but in the wrong position),  \n",
        "and one Miss (the 4, which does not occur anywhere in the secret code).  \n",
        "> **Important:** the feedback string should always list the Bulls first, then the Cows, then the Misses.  It should **not** tell the user which digits are which!  The only information in the feedback string is how many of each there are.  In the example above, for instance, the feedback is **not** \"XBCB\" but rather \"BBCX\".  This is different from Wordle, if you are familiar with that game.\n",
        "5. The user should then be prompted for another guess.  This guess-with-feedback process should be repeated until the user gets the correct code, at which point the computer should indicate that they have won the game.  However, the user should only be allowed 6 guesses; if they don't guess correctly in 6 attempts, then following the feedback from their final guess they should get a message that they have lost the game, and the secret code should be revealed.\n",
        "\n",
        "\n",
        "\n",
        "\n",
        "\n",
        "\n",
        "\n"
      ]
    },
    {
      "cell_type": "markdown",
      "source": [
        "### Steps\n",
        "We will build this game using several functions.  \n",
        "\n",
        "1. **Count the Bulls:**  \n",
        "Write a function that takes two lists of the same length, and returns the number of Bulls.  That is, it should return the number of indices where the lists contain the same element.  *(Note:  you don't have to check that the entries are between 1 and 6, or that there are no repeats, etc.  A different function will do that.)*\n",
        "\n",
        "> A sample run might look like\n",
        "```\n",
        "first = [11, 3, 17, 5, 1]\n",
        "second = [20, 2, 17, 3, 1]\n",
        "count_bulls(first,second)\n",
        "```\n",
        "```\n",
        " 2\n",
        "```\n"
      ],
      "metadata": {
        "id": "XSH1JULaurD1"
      }
    },
    {
      "cell_type": "markdown",
      "source": [
        "Define your function in the code chunk below.  The function definition command and the return command are pre-populated for you.  You just have to fill in the part which does the actual counting.  I recommend using a list comprehension to do this.\n"
      ],
      "metadata": {
        "id": "pXoOyBk7xmPa"
      }
    },
    {
      "cell_type": "code",
      "source": [
        "# the Bull-counting function\n",
        "def count_bulls(first, second):\n",
        "  '''\n",
        "  PURPOSE\n",
        "    Takes two lists of the same length and computes the number of positions where the list entries agree.\n",
        "  INPUTS\n",
        "    first: a list of ints\n",
        "    second: a list of ints (same length as second)\n",
        "  OUTPUTS\n",
        "    num_bulls (int): the number of positions where the list entries were the same.\n",
        "  '''\n",
        "  count = 0\n",
        "  for i in range(len(first)):\n",
        "    if first[i] == second[i]:\n",
        "      count += 1\n",
        "  num_bulls = count          # finish this line of code to make the function function!\n",
        "  #loops through the first and compares the element at index i with the element at index i in second to see if they are equal\n",
        "  return num_bulls\n",
        "\n",
        "print(count_bulls.__doc__)"
      ],
      "metadata": {
        "id": "vEsRSe8KxlcF",
        "colab": {
          "base_uri": "https://localhost:8080/"
        },
        "outputId": "e81daf7b-6eb8-433d-c6e8-49e0f67149e6"
      },
      "execution_count": 353,
      "outputs": [
        {
          "output_type": "stream",
          "name": "stdout",
          "text": [
            "\n",
            "  PURPOSE\n",
            "    Takes two lists of the same length and computes the number of positions where the list entries agree.\n",
            "  INPUTS\n",
            "    first: a list of ints\n",
            "    second: a list of ints (same length as second)\n",
            "  OUTPUTS\n",
            "    num_bulls (int): the number of positions where the list entries were the same. \n",
            "  \n"
          ]
        }
      ]
    },
    {
      "cell_type": "markdown",
      "source": [
        "Add code and/or text chunks below to demonstrate that you have tested your code and that it works correctly."
      ],
      "metadata": {
        "id": "yACJyJtOzE2U"
      }
    },
    {
      "cell_type": "code",
      "source": [
        "first = [1, 2, 3, 4]\n",
        "second = [1, 2, 3, 4]\n",
        "count_bulls(first,second)"
      ],
      "metadata": {
        "colab": {
          "base_uri": "https://localhost:8080/"
        },
        "id": "BvZxOo8Ymywi",
        "outputId": "20c169f3-3b2d-429f-b1a6-970f6c427518"
      },
      "execution_count": 222,
      "outputs": [
        {
          "output_type": "execute_result",
          "data": {
            "text/plain": [
              "4"
            ]
          },
          "metadata": {},
          "execution_count": 222
        }
      ]
    },
    {
      "cell_type": "code",
      "source": [
        "first = [11, 3, 17, 5, 1]\n",
        "second = [20, 2, 17, 3, 1]\n",
        "count_bulls(first,second)"
      ],
      "metadata": {
        "colab": {
          "base_uri": "https://localhost:8080/"
        },
        "id": "a2N0Z2DSmyqb",
        "outputId": "83ac00af-9eb5-4508-a8c1-fbcd96947013"
      },
      "execution_count": 178,
      "outputs": [
        {
          "output_type": "execute_result",
          "data": {
            "text/plain": [
              "2"
            ]
          },
          "metadata": {},
          "execution_count": 178
        }
      ]
    },
    {
      "cell_type": "code",
      "source": [
        "first = sample(range(1,7),4)\n",
        "print(first)\n",
        "second = get_guess()\n",
        "count_bulls(first,second)"
      ],
      "metadata": {
        "colab": {
          "base_uri": "https://localhost:8080/"
        },
        "id": "1Fbfo00pmyht",
        "outputId": "cd203a67-2c9f-45b3-f678-1f6e3613167f"
      },
      "execution_count": 354,
      "outputs": [
        {
          "name": "stdout",
          "output_type": "stream",
          "text": [
            "[6, 3, 5, 1]\n",
            "Enter your guess:6351\n"
          ]
        },
        {
          "output_type": "execute_result",
          "data": {
            "text/plain": [
              "4"
            ]
          },
          "metadata": {},
          "execution_count": 354
        }
      ]
    },
    {
      "cell_type": "markdown",
      "source": [
        "2. **Count something else:**  \n",
        "To count the cows it will be helpful first to count how many of the elements occur in both strings, without paying attention their positions.\n",
        "Write a function called `count_animals` that takes two lists of the same length, and returns the number of elements of the second list that are also in the first list.  (In the game setting, each such element is either a Bull or a Cow, but don't worry about which is which for this problem.)\n",
        "You may assume the lists do not contain repeated elements, since this will be the case when the function is called in the game.\n",
        "\n",
        "> This time a sample run might look like\n",
        "```\n",
        "first = [11, 3, 17, 5, 1]\n",
        "second = [20, 2, 17, 3, 1]\n",
        "count_animals(first,second)\n",
        "```\n",
        "```\n",
        " 3\n",
        "```\n",
        "\n",
        "This one isn't started for you.  Remember to include a docstring.  This can also be done using a list comprehension, similar to the previous function.\n",
        "\n"
      ],
      "metadata": {
        "id": "aMsOmejkzNVN"
      }
    },
    {
      "cell_type": "code",
      "source": [
        "# define your function here\n",
        "\n",
        "def count_animals(first, second):\n",
        "  '''\n",
        "  PURPOSE\n",
        "    Takes two lists of the same length and finds the number of elements that occur in both lists without considering their positions in the lists.\n",
        "  INPUTS\n",
        "    first: a list of ints\n",
        "    second: a list of ints (same length as first)\n",
        "  OUTPUTS\n",
        "    animals(int): the number of elements that were the same in both lists.\n",
        "  '''\n",
        "  animals = 0\n",
        "  for i in range(len(first)):\n",
        "    for x in range(len(second)):\n",
        "      if first[i] == second[x]:\n",
        "        animals += 1\n",
        "  #nested loops, the outer loop goes through first and the inner loop goes through second for every index of i in first. This will check if there are elements in both lists even if they are not in the same positions.\n",
        "  return animals\n",
        "print(count_animals.__doc__)"
      ],
      "metadata": {
        "id": "yRX219q02e6i",
        "colab": {
          "base_uri": "https://localhost:8080/"
        },
        "outputId": "30a4955b-6968-4c11-ad3a-d496980640a9"
      },
      "execution_count": 386,
      "outputs": [
        {
          "output_type": "stream",
          "name": "stdout",
          "text": [
            "\n",
            "  PURPOSE\n",
            "    Takes two lists of the same length and finds the number of elements that occur in both lists without considering their positions in the lists.\n",
            "  INPUTS\n",
            "    first: a list of ints \n",
            "    second: a list of ints (same length as first)\n",
            "  OUTPUTS\n",
            "    animals(int): the number of elements that were the same in both lists. \n",
            "  \n"
          ]
        }
      ]
    },
    {
      "cell_type": "markdown",
      "source": [
        "Again, demonstrate below that you have tested your code and that it works."
      ],
      "metadata": {
        "id": "HXRNwANS2f-4"
      }
    },
    {
      "cell_type": "code",
      "source": [
        "first = [1,2,3,4]\n",
        "second = [1,2,3,4]\n",
        "count_animals(first,second)"
      ],
      "metadata": {
        "colab": {
          "base_uri": "https://localhost:8080/"
        },
        "id": "bkJr4di0DtSr",
        "outputId": "20b3b6de-ae32-4a84-9c1b-eb575dce1798"
      },
      "execution_count": 387,
      "outputs": [
        {
          "output_type": "execute_result",
          "data": {
            "text/plain": [
              "4"
            ]
          },
          "metadata": {},
          "execution_count": 387
        }
      ]
    },
    {
      "cell_type": "code",
      "source": [
        "first = [11, 3, 17, 5, 1]\n",
        "second = [20, 2, 17, 3, 1]\n",
        "count_animals(first,second)"
      ],
      "metadata": {
        "colab": {
          "base_uri": "https://localhost:8080/"
        },
        "id": "rGh3ks7pnA4O",
        "outputId": "070c0c3d-c089-4429-db36-d1bf94358f68"
      },
      "execution_count": 388,
      "outputs": [
        {
          "output_type": "execute_result",
          "data": {
            "text/plain": [
              "3"
            ]
          },
          "metadata": {},
          "execution_count": 388
        }
      ]
    },
    {
      "cell_type": "code",
      "source": [
        "first = sample(range(1,7),4)\n",
        "print(first)\n",
        "second = get_guess()\n",
        "count_animals(first,second)"
      ],
      "metadata": {
        "colab": {
          "base_uri": "https://localhost:8080/"
        },
        "id": "PHtZMtaRnAwN",
        "outputId": "d44f300c-ae33-439e-ed64-299420a84e92"
      },
      "execution_count": 390,
      "outputs": [
        {
          "name": "stdout",
          "output_type": "stream",
          "text": [
            "[3, 6, 1, 2]\n",
            "Enter your guess:2163\n"
          ]
        },
        {
          "output_type": "execute_result",
          "data": {
            "text/plain": [
              "4"
            ]
          },
          "metadata": {},
          "execution_count": 390
        }
      ]
    },
    {
      "cell_type": "markdown",
      "source": [
        "3. **Count the cows:**  \n",
        "Write a function called `count_cows` that counts the cows.  \n",
        "> This time a sample run might look like\n",
        "```\n",
        "first = [11, 3, 17, 5, 1]\n",
        "second = [20, 2, 17, 3, 1]\n",
        "count_cows(first,second)\n",
        "```\n",
        "```\n",
        " 1\n",
        "```\n",
        "*Use the two previously defined functions to help you!  \n",
        "In fact, remember that the only reason we wrote the `count_animals` function was to help count the cows.*\n",
        "\n",
        "You can do this with only two lines of code, not counting documentation!"
      ],
      "metadata": {
        "id": "x2DAPkxj2GMo"
      }
    },
    {
      "cell_type": "code",
      "source": [
        "# put the Cow counting function here\n",
        "\n",
        "def count_cows(first, second):\n",
        "  '''\n",
        "  PURPOSE\n",
        "    Takes two lists of the same length and finds the number of elements that occur in both lists without being in the same index on both lists.\n",
        "  INPUTS\n",
        "    first: a list of ints\n",
        "    second: a list of ints (same length as first)\n",
        "  OUTPUTS\n",
        "    cows(int): the number of elements that were the same in both lists without being in the same index on both lists.\n",
        "  '''\n",
        "  cows = count_animals(first,second) - count_bulls(first,second)\n",
        "  #calling count_animals which (int) and subtracting count_bulls (int) from it\n",
        "  return cows\n",
        "\n",
        "print(count_cows.__doc__)"
      ],
      "metadata": {
        "id": "QnxnaOPI3YZO",
        "colab": {
          "base_uri": "https://localhost:8080/"
        },
        "outputId": "d23e238e-339d-4677-91a1-c94aa0d1b6ad"
      },
      "execution_count": 300,
      "outputs": [
        {
          "output_type": "stream",
          "name": "stdout",
          "text": [
            "\n",
            "  PURPOSE\n",
            "    Takes two lists of the same length and finds the number of elements that occur in both lists without being in the same index on both lists.\n",
            "  INPUTS\n",
            "    first: a list of ints \n",
            "    second: a list of ints (same length as first)\n",
            "  OUTPUTS\n",
            "    cows(int): the number of elements that were the same in both lists without being in the same index on both lists. \n",
            "  \n"
          ]
        }
      ]
    },
    {
      "cell_type": "code",
      "source": [
        "first = [11, 3, 17, 5, 1]\n",
        "second = [20, 2, 17, 3, 1]\n",
        "count_cows(first,second)"
      ],
      "metadata": {
        "colab": {
          "base_uri": "https://localhost:8080/"
        },
        "id": "UlsdggfpGwz-",
        "outputId": "db083d2b-2efe-4da6-a5e7-d71228cbb57c"
      },
      "execution_count": 373,
      "outputs": [
        {
          "output_type": "execute_result",
          "data": {
            "text/plain": [
              "1"
            ]
          },
          "metadata": {},
          "execution_count": 373
        }
      ]
    },
    {
      "cell_type": "code",
      "source": [
        "first = [1, 3, 17, 5, 11]\n",
        "second = [17, 5, 11, 3, 1]\n",
        "count_cows(first,second)"
      ],
      "metadata": {
        "colab": {
          "base_uri": "https://localhost:8080/"
        },
        "id": "BW3b341on-WS",
        "outputId": "35d57ee0-52d1-4913-da4a-7643684b2472"
      },
      "execution_count": 374,
      "outputs": [
        {
          "output_type": "execute_result",
          "data": {
            "text/plain": [
              "5"
            ]
          },
          "metadata": {},
          "execution_count": 374
        }
      ]
    },
    {
      "cell_type": "code",
      "source": [
        "first = sample(range(1,7),4)\n",
        "print(first)\n",
        "second = get_guess()\n",
        "count_cows(first,second)"
      ],
      "metadata": {
        "colab": {
          "base_uri": "https://localhost:8080/"
        },
        "id": "9pzqbjN_n-O0",
        "outputId": "730883f8-84db-4774-92ac-1b3a5de71a56"
      },
      "execution_count": 391,
      "outputs": [
        {
          "name": "stdout",
          "output_type": "stream",
          "text": [
            "[2, 5, 3, 6]\n",
            "Enter your guess:2635\n"
          ]
        },
        {
          "output_type": "execute_result",
          "data": {
            "text/plain": [
              "2"
            ]
          },
          "metadata": {},
          "execution_count": 391
        }
      ]
    },
    {
      "cell_type": "markdown",
      "metadata": {
        "id": "hWQhYDIVYjXr"
      },
      "source": [
        "4. **Create feedback string**  \n",
        "Write a `build_response_str` function that takes three numbers, say `b,c,l`, and outputs a string of total length `l` that consists of `b` B's, followed by `c` C's, and the rest X's (until the total length is `l`).\n",
        "\n",
        "> Sample run:\n",
        "```\n",
        "build_response_str(4,3,9)\n",
        "```\n",
        "```\n",
        "BBBBCCCXX\n",
        "```"
      ]
    },
    {
      "cell_type": "code",
      "source": [
        "# define your function here\n",
        "def build_response_str(b, c, l):\n",
        "  '''\n",
        "  PURPOSE\n",
        "    Takes three numbers (b, c, l) and outputs a string of length l that has b number of \"B\" followed by c number of \"C\" and the remaining \"X\" until reaching length l\n",
        "  INPUTS\n",
        "    b: int (less than or equal to l)\n",
        "    c: int (less than or equal to l)\n",
        "    l: int that acts as the length of the string\n",
        "  OUTPUTS\n",
        "    response(string): the string that contains the appropriate number of \"B\",\"C\" and \"X\"\n",
        "  '''\n",
        "  response = \"\"\n",
        "  for i in range(b):\n",
        "    response += \"B\"\n",
        "    #loops through however many b there are and adds one \"B\" to response for every interation\n",
        "  for i in range(c):\n",
        "    response += \"C\"\n",
        "    #loops through however many c there are and adds one \"C\" to response for every interation\n",
        "  for i in range(l - b - c):\n",
        "    response += \"X\"\n",
        "    #loops through however many l left after subtracting b and c and adds one \"X\" to response for every interation\n",
        "  return response"
      ],
      "metadata": {
        "id": "GSimWqUsMaPE"
      },
      "execution_count": 229,
      "outputs": []
    },
    {
      "cell_type": "code",
      "source": [
        "build_response_str(4,3,9)"
      ],
      "metadata": {
        "colab": {
          "base_uri": "https://localhost:8080/",
          "height": 37
        },
        "id": "LCINjDGrI11A",
        "outputId": "11a733e6-46e9-4901-eb2e-9e14f87e42e3"
      },
      "execution_count": 167,
      "outputs": [
        {
          "output_type": "execute_result",
          "data": {
            "text/plain": [
              "'BBBBCCCXX'"
            ],
            "application/vnd.google.colaboratory.intrinsic+json": {
              "type": "string"
            }
          },
          "metadata": {},
          "execution_count": 167
        }
      ]
    },
    {
      "cell_type": "code",
      "source": [
        "build_response_str(2,4,6)"
      ],
      "metadata": {
        "colab": {
          "base_uri": "https://localhost:8080/",
          "height": 37
        },
        "id": "IgphYH2IlfRr",
        "outputId": "252ec812-6e2d-46ef-a88d-8f2ce7b31bed"
      },
      "execution_count": 169,
      "outputs": [
        {
          "output_type": "execute_result",
          "data": {
            "text/plain": [
              "'BBCCCC'"
            ],
            "application/vnd.google.colaboratory.intrinsic+json": {
              "type": "string"
            }
          },
          "metadata": {},
          "execution_count": 169
        }
      ]
    },
    {
      "cell_type": "code",
      "source": [
        "build_response_str(2,4,9)"
      ],
      "metadata": {
        "colab": {
          "base_uri": "https://localhost:8080/",
          "height": 37
        },
        "id": "CmMkhDOAl0w7",
        "outputId": "19adb2fb-ce35-44fe-ff86-0ef57892d61d"
      },
      "execution_count": 173,
      "outputs": [
        {
          "output_type": "execute_result",
          "data": {
            "text/plain": [
              "'BBCCCCXXX'"
            ],
            "application/vnd.google.colaboratory.intrinsic+json": {
              "type": "string"
            }
          },
          "metadata": {},
          "execution_count": 173
        }
      ]
    },
    {
      "cell_type": "markdown",
      "source": [
        "Test your code here."
      ],
      "metadata": {
        "id": "2D14kxTU7ApH"
      }
    },
    {
      "cell_type": "markdown",
      "metadata": {
        "id": "omzE6sLKwsMC"
      },
      "source": [
        "5.  **Generate feedback for guesses**  \n",
        "Write a function `response(first,second)` that takes two lists of the same length, and outputs a string consisting of some number of B's followed by some number of C's followed by some number of X's, where the numbers correspond to the things we counted above.  That is, if `first` were the secret code in the game and `second` were the user's guess, then we would print one B for each Bull, one C for each Cow, and one X for each Miss. The total output string should have the same length as the input strings.\n",
        "\n",
        "> Sample run:\n",
        "```\n",
        "first = [11, 3, 17, 5, 1]\n",
        "second = [20, 2, 17, 3, 1]\n",
        "response(first,second)\n",
        "```\n",
        "```\n",
        " BBCXX\n",
        "```\n",
        "\n",
        "With all the functions you've already put in place, this should be simple.  Test your code once it's written.\n"
      ]
    },
    {
      "cell_type": "code",
      "source": [
        "def response(first,second):\n",
        "  '''\n",
        "  PURPOSE\n",
        "    The function will create a string that has output of count_bull() number of \"B\" followed by output of count_cows() number of \"C\" and the remaining \"X\" until reaching length len(first)\n",
        "  INPUTS\n",
        "    first: a list of ints\n",
        "    second: a list of ints (same length as first)\n",
        "  OUTPUTS\n",
        "    response(string): the string that contains the appropriate number of \"B\",\"C\" and \"X\"\n",
        "  '''\n",
        "  response = build_response_str(count_bulls(first, second),count_cows(first, second), len(first))\n",
        "  #calls build_response_str with the parameters using outputs of count_bulls(int) as b, count_cows(int) as c, and len(first) (int) as l\n",
        "  return response"
      ],
      "metadata": {
        "id": "RD1qq7l783y5"
      },
      "execution_count": 400,
      "outputs": []
    },
    {
      "cell_type": "code",
      "source": [
        "first = [11, 3, 17, 5, 1]\n",
        "second =\n",
        "response(first,second)"
      ],
      "metadata": {
        "colab": {
          "base_uri": "https://localhost:8080/",
          "height": 37
        },
        "id": "vWSdfqKPLX_Z",
        "outputId": "b23632eb-4083-4fc5-ed25-9847284f8f03"
      },
      "execution_count": 364,
      "outputs": [
        {
          "output_type": "execute_result",
          "data": {
            "text/plain": [
              "'BBCXX'"
            ],
            "application/vnd.google.colaboratory.intrinsic+json": {
              "type": "string"
            }
          },
          "metadata": {},
          "execution_count": 364
        }
      ]
    },
    {
      "cell_type": "code",
      "source": [
        "first = [1,2,3,4]\n",
        "second = [1,2,3,4]\n",
        "response(first,second)"
      ],
      "metadata": {
        "colab": {
          "base_uri": "https://localhost:8080/",
          "height": 37
        },
        "id": "pFET8zfTmBUz",
        "outputId": "3270ba6f-ed3c-45cc-d918-edd0a9d53c0c"
      },
      "execution_count": 363,
      "outputs": [
        {
          "output_type": "execute_result",
          "data": {
            "text/plain": [
              "'BBBB'"
            ],
            "application/vnd.google.colaboratory.intrinsic+json": {
              "type": "string"
            }
          },
          "metadata": {},
          "execution_count": 363
        }
      ]
    },
    {
      "cell_type": "code",
      "source": [
        "first = [5, 4, 2, 6]\n",
        "print(first)\n",
        "second = get_guess()\n",
        "response(first,second)"
      ],
      "metadata": {
        "colab": {
          "base_uri": "https://localhost:8080/",
          "height": 71
        },
        "id": "vmH_OqPOug2p",
        "outputId": "2b0f1e78-f3d8-4dc4-a0a6-13161409399d"
      },
      "execution_count": 392,
      "outputs": [
        {
          "name": "stdout",
          "output_type": "stream",
          "text": [
            "[5, 4, 2, 6]\n",
            "Enter your guess:6425\n"
          ]
        },
        {
          "output_type": "execute_result",
          "data": {
            "text/plain": [
              "'BBCC'"
            ],
            "application/vnd.google.colaboratory.intrinsic+json": {
              "type": "string"
            }
          },
          "metadata": {},
          "execution_count": 392
        }
      ]
    },
    {
      "cell_type": "markdown",
      "metadata": {
        "id": "LWshNPjPZJdQ"
      },
      "source": [
        "6.  **Choose the secret code**  \n",
        "The `random` package, and specifically the `sample` sub-package, is useful for generating random samples.  Try running the following lines of code several times.\n",
        "\n"
      ]
    },
    {
      "cell_type": "code",
      "source": [
        "from random import sample\n",
        "\n",
        "sample(range(1,7),4)  # the first argument is the population to be sampled, and the second is the number of samples\n",
        "                      # recall that `range(a,b)` includes `a` but stops at `b-1`"
      ],
      "metadata": {
        "id": "OzEZ5BQZ85jV",
        "colab": {
          "base_uri": "https://localhost:8080/"
        },
        "outputId": "a4d2ad02-e7c1-4441-dd02-f2b8f343778a"
      },
      "execution_count": 217,
      "outputs": [
        {
          "output_type": "execute_result",
          "data": {
            "text/plain": [
              "[3, 4, 1, 2]"
            ]
          },
          "metadata": {},
          "execution_count": 217
        }
      ]
    },
    {
      "cell_type": "markdown",
      "source": [
        "What type of object is returned by the `sample` function?\n"
      ],
      "metadata": {
        "id": "N1BOe2Xd-kr4"
      }
    },
    {
      "cell_type": "code",
      "source": [
        "type(sample(range(1,7),4) )"
      ],
      "metadata": {
        "id": "U5AAu9sG-slX",
        "colab": {
          "base_uri": "https://localhost:8080/"
        },
        "outputId": "79d230d2-2038-4923-a3b6-4e9af72707a4"
      },
      "execution_count": 175,
      "outputs": [
        {
          "output_type": "execute_result",
          "data": {
            "text/plain": [
              "list"
            ]
          },
          "metadata": {},
          "execution_count": 175
        }
      ]
    },
    {
      "cell_type": "markdown",
      "source": [
        "The sample function returns a list."
      ],
      "metadata": {
        "id": "yGZw8xFZ-uN4"
      }
    },
    {
      "cell_type": "markdown",
      "source": [
        "7. **Verify the guess**  \n",
        "Finish writing a function called `get_guess` (started below) to prompt the user for a guess and then make sure the input is valid according to the rules of the game.\n",
        "The prompt is already given.  Note that the `list` command converts the input into a list of characters so that it can be passed to the other functions (which are expecting lists).   \n",
        ">**Alert:  you will likely have to think more about data types before this is all over.**"
      ],
      "metadata": {
        "id": "mbK84TdIAVsO"
      }
    },
    {
      "cell_type": "code",
      "source": [
        "def get_guess():\n",
        "# Add code as needed to verify that the guess is legitimate.\n",
        "# Respond to an illegitimate guess with a message telling the user what the rules are\n",
        "# and asking to try again.\n",
        "  '''\n",
        "  PURPOSE\n",
        "    The function will take a guess that is 4 digits long, only use digits 1-6, and has no repeats.\n",
        "  INPUTS\n",
        "    None\n",
        "    guess (list): Will ask the user for an input that will be converted into a list, this has to be list of ints that is 4 digits long\n",
        "  OUTPUTS\n",
        "    guess: returns guess in a list if the guess was valid\n",
        "    a string: returns a string reminding the player of the rules and parameters of a guess\n",
        "  '''\n",
        "  guess = list(input(\"Enter your guess:\"))\n",
        "  legit = True\n",
        "  #try:\n",
        "  for i in range(len(guess)):\n",
        "    guess[i] = int(guess[i])\n",
        "      #converting all of the elements in guess into ints so that they can work with previous functions\n",
        "  if len(guess) > 4:\n",
        "    legit = False\n",
        "      #checking if guess is longer than 4 digits\n",
        "  for i in range(len(guess)):\n",
        "    if not (1 <= int(guess[i]) <= 6):\n",
        "        legit = False\n",
        "      #checking if guess is within the range of 1 to 6\n",
        "  seen = set()\n",
        "  for i in range(len(guess)):\n",
        "    if guess[i] in seen:\n",
        "      legit = False\n",
        "    seen.add(guess[i])\n",
        "      #checking if there are any duplicates inside of guess\n",
        "    if(legit):\n",
        "      return guess\n",
        "    else:\n",
        "      return \"Your guess has to be 4 digits long, only use digits 1-6, and have no repeats; Example: 1234\"\n",
        "\n",
        "  #except:\n",
        "        #return \"Your guess has to be 4 digits long, only use digits 1-6, and have no repeats; Example: 1234\"\n",
        "  #using try and except to make sure that the code works and returns the message whenever there are errors\n",
        "  #I had to move the try and except code to the bulls_cows() function to make sure that it worked when there were invalid guesses"
      ],
      "metadata": {
        "id": "13HGg6VvBXSH",
        "colab": {
          "base_uri": "https://localhost:8080/",
          "height": 105
        },
        "outputId": "39ceab91-000a-4958-ee06-8bebf81f53e4"
      },
      "execution_count": 411,
      "outputs": [
        {
          "output_type": "error",
          "ename": "IndentationError",
          "evalue": "unindent does not match any outer indentation level (<tokenize>, line 39)",
          "traceback": [
            "\u001b[0;36m  File \u001b[0;32m\"<tokenize>\"\u001b[0;36m, line \u001b[0;32m39\u001b[0m\n\u001b[0;31m    except:\u001b[0m\n\u001b[0m    ^\u001b[0m\n\u001b[0;31mIndentationError\u001b[0m\u001b[0;31m:\u001b[0m unindent does not match any outer indentation level\n"
          ]
        }
      ]
    },
    {
      "cell_type": "markdown",
      "source": [
        "As usual, test your code. What type of objects are we dealing with here?"
      ],
      "metadata": {
        "id": "k5pWxWhc3N6o"
      }
    },
    {
      "cell_type": "code",
      "source": [
        "item = get_guess()\n",
        "item2 = get_guess()\n",
        "print(type(item))\n",
        "print(type(item2))\n",
        "print(type(item[1]))"
      ],
      "metadata": {
        "id": "ytgf6BfiOPNh",
        "colab": {
          "base_uri": "https://localhost:8080/"
        },
        "outputId": "61c1038c-e1a3-45e8-9ea9-f8edd404a864"
      },
      "execution_count": 326,
      "outputs": [
        {
          "output_type": "stream",
          "name": "stdout",
          "text": [
            "Enter your guess:1234\n",
            "Enter your guess:no\n",
            "<class 'list'>\n",
            "<class 'str'>\n",
            "<class 'int'>\n"
          ]
        }
      ]
    },
    {
      "cell_type": "code",
      "source": [
        "get_guess()"
      ],
      "metadata": {
        "colab": {
          "base_uri": "https://localhost:8080/",
          "height": 54
        },
        "id": "CBabbwr-BX6m",
        "outputId": "46459423-56f6-4539-88c6-02d4c4168ace"
      },
      "execution_count": 399,
      "outputs": [
        {
          "name": "stdout",
          "output_type": "stream",
          "text": [
            "Enter your guess:no\n"
          ]
        },
        {
          "output_type": "execute_result",
          "data": {
            "text/plain": [
              "'Your guess has to be 4 digits long, only use digits 1-6, and have no repeats; Example: 1234'"
            ],
            "application/vnd.google.colaboratory.intrinsic+json": {
              "type": "string"
            }
          },
          "metadata": {},
          "execution_count": 399
        }
      ]
    },
    {
      "cell_type": "markdown",
      "source": [
        "A valid guess will have a list as an output and an invalid guess will have a string as an output. The individual items in the guess list are ints."
      ],
      "metadata": {
        "id": "PWUVpiRUr4KE"
      }
    },
    {
      "cell_type": "markdown",
      "source": [
        "8. **Put it all together**  \n",
        "Finally, fill in the details of the function `bulls_cows` below so that it will play the game of Bulls and Cows when called.  Note that the function takes no arguments and returns nothing.\n"
      ],
      "metadata": {
        "id": "WdtvUrA4-uzn"
      }
    },
    {
      "cell_type": "code",
      "execution_count": 412,
      "metadata": {
        "id": "_u48oidGzRKX"
      },
      "outputs": [],
      "source": [
        "from random import sample\n",
        "\n",
        "def bulls_cows():\n",
        "  '''\n",
        "  This function plays the game \"Bulls and Cows.\"\n",
        "  It takes no arguments and returns nothing.\n",
        "  '''\n",
        "  try:\n",
        "    code = sample(range(1,7),4)  # (finish) computer selects the secret code\n",
        "    for i in range(6):                  # user gets a maximum of 6 guesses\n",
        "        guess = get_guess()                            # (finish) run a function to get a guess\n",
        "        if code == guess:\n",
        "          print(\"You guessed it!\")\n",
        "          return\n",
        "        else:\n",
        "          print(response(code,guess))\n",
        "    print(f\"You have run out of guesses. The secret code was {code}.\")\n",
        "  except:\n",
        "    return \"Your guess has to be 4 digits long, only use digits 1-6, and have no repeats; Example: 1234\""
      ]
    },
    {
      "cell_type": "markdown",
      "metadata": {
        "id": "NzjqX_9K3OuV"
      },
      "source": [
        "Play the game a few times below.  Make sure it behaves as you think it should!"
      ]
    },
    {
      "cell_type": "code",
      "source": [
        "bulls_cows()"
      ],
      "metadata": {
        "id": "inzOdtimDfGU",
        "colab": {
          "base_uri": "https://localhost:8080/"
        },
        "outputId": "345b759f-bb46-4e76-be97-7b36564293d1"
      },
      "execution_count": 393,
      "outputs": [
        {
          "output_type": "stream",
          "name": "stdout",
          "text": [
            "Enter your guess:1234\n",
            "BBCC\n",
            "Enter your guess:5634\n",
            "BCXX\n",
            "Enter your guess:1256\n",
            "BCXX\n",
            "Enter your guess:1564\n",
            "BBXX\n",
            "Enter your guess:4321\n",
            "BBCC\n",
            "Enter your guess:4231\n",
            "CCCC\n",
            "You have run out of guesses. The secret code was [1, 3, 2, 4].\n"
          ]
        }
      ]
    },
    {
      "cell_type": "code",
      "source": [
        "bulls_cows()"
      ],
      "metadata": {
        "id": "Eqw-5laFDfkG",
        "colab": {
          "base_uri": "https://localhost:8080/"
        },
        "outputId": "ce93b51c-d021-4228-c9a0-10a402076ee0"
      },
      "execution_count": 394,
      "outputs": [
        {
          "output_type": "stream",
          "name": "stdout",
          "text": [
            "Enter your guess:1234\n",
            "CCXX\n",
            "Enter your guess:1256\n",
            "BCCX\n",
            "Enter your guess:1245\n",
            "CCXX\n",
            "Enter your guess:1265\n",
            "CCCX\n",
            "Enter your guess:1465\n",
            "CCXX\n",
            "Enter your guess:6542\n",
            "BCCX\n",
            "You have run out of guesses. The secret code was [3, 5, 2, 6].\n"
          ]
        }
      ]
    },
    {
      "cell_type": "code",
      "source": [
        "bulls_cows()"
      ],
      "metadata": {
        "colab": {
          "base_uri": "https://localhost:8080/",
          "height": 54
        },
        "id": "srH1ABfVA6ZH",
        "outputId": "ae034cc6-5829-4534-9cab-266e0fce7dd1"
      },
      "execution_count": 413,
      "outputs": [
        {
          "name": "stdout",
          "output_type": "stream",
          "text": [
            "Enter your guess:no\n"
          ]
        },
        {
          "output_type": "execute_result",
          "data": {
            "text/plain": [
              "'Your guess has to be 4 digits long, only use digits 1-6, and have no repeats; Example: 1234'"
            ],
            "application/vnd.google.colaboratory.intrinsic+json": {
              "type": "string"
            }
          },
          "metadata": {},
          "execution_count": 413
        }
      ]
    },
    {
      "cell_type": "markdown",
      "source": [
        "9. **Reflect**  \n",
        "Think of at least three ways you could change the rules or setup of the game, and in each case describe (in one sentence, you don't need to write code) what you would have to do to modify your code to play the new version of the game.  Use a text box below for each of your ideas."
      ],
      "metadata": {
        "id": "a58-KCX4ELRO"
      }
    },
    {
      "cell_type": "markdown",
      "source": [
        "(1) I could increase the range of the guesses and codes to 1 - 9. I would have to edit the range in my get_guess() function to fit the new range and increase the range of sample(range(1,7),4) to sample(range(1,10),4)."
      ],
      "metadata": {
        "id": "Jof2vIZSEfwo"
      }
    },
    {
      "cell_type": "markdown",
      "source": [
        "(2)I could increase the length of the codes and guesses to 6. I would have to edit the length restrictions of get_guess() and increase the length of sample(range(1,7),4) to sample(range(1,7),6)."
      ],
      "metadata": {
        "id": "f2_QlBavEiqW"
      }
    },
    {
      "cell_type": "markdown",
      "source": [
        "(3)I could change the no positional feedback rule. I would have to edit my response() function to consider the postions of the Bulls and Cows. I also have to change the restrictions of get_guess() so that it allows for duplicates."
      ],
      "metadata": {
        "id": "sqfq2EFpEjZt"
      }
    }
  ],
  "metadata": {
    "colab": {
      "provenance": [],
      "include_colab_link": true
    },
    "kernelspec": {
      "display_name": "Python 3",
      "name": "python3"
    },
    "language_info": {
      "name": "python"
    }
  },
  "nbformat": 4,
  "nbformat_minor": 0
}