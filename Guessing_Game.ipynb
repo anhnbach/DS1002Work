{
  "nbformat": 4,
  "nbformat_minor": 0,
  "metadata": {
    "colab": {
      "provenance": [],
      "authorship_tag": "ABX9TyMR9zoYNx1CPZVhDHQSQ0hb",
      "include_colab_link": true
    },
    "kernelspec": {
      "name": "python3",
      "display_name": "Python 3"
    },
    "language_info": {
      "name": "python"
    }
  },
  "cells": [
    {
      "cell_type": "markdown",
      "metadata": {
        "id": "view-in-github",
        "colab_type": "text"
      },
      "source": [
        "<a href=\"https://colab.research.google.com/github/anhnbach/DS1002Work/blob/main/Guessing_Game.ipynb\" target=\"_parent\"><img src=\"https://colab.research.google.com/assets/colab-badge.svg\" alt=\"Open In Colab\"/></a>"
      ]
    },
    {
      "cell_type": "code",
      "execution_count": 77,
      "metadata": {
        "colab": {
          "base_uri": "https://localhost:8080/"
        },
        "id": "n89nCMf4e0fY",
        "outputId": "6bafd2d0-d9e3-4e37-973d-91d0369fe910"
      },
      "outputs": [
        {
          "output_type": "stream",
          "name": "stdout",
          "text": [
            "The computer will generate a random whole number between 0 and 100. You should try to guess what that the computer generates! Enter a whole number (0 - 100)\n",
            "no\n",
            "Please enter a whole number!\n",
            "1000\n",
            "Please enter a number within the range!\n",
            "50\n",
            "Too low!\n",
            "60\n",
            "Too low!\n",
            "70\n",
            "Too high!\n",
            "-100\n",
            "Please enter a number within the range!\n",
            "65\n",
            "Too low!\n",
            "68\n",
            "Too high!\n",
            "67\n",
            "Too high!\n",
            "66\n",
            "You got it!\n",
            "You took 7 attempts\n"
          ]
        }
      ],
      "source": [
        "import numpy as np\n",
        "\n",
        "value = np.random.randint(0, 100)\n",
        "\n",
        "correct = False\n",
        "numguess = 1\n",
        "\n",
        "print(\"The computer will generate a random whole number between 0 and 100. You should try to guess what that the computer generates! Enter a whole number (0 - 100)\")\n",
        "\n",
        "while correct == False:\n",
        "  userguess = input()\n",
        "  try:\n",
        "    if int(userguess) <= 0 or int(userguess) >= 100:\n",
        "      print(\"Please enter a number within the range!\")\n",
        "\n",
        "    else:\n",
        "        if int(userguess) == value:\n",
        "          correct = True\n",
        "          print(\"You got it!\")\n",
        "          print(\"You took \" + str(numguess) + \" attempts\")\n",
        "        else:\n",
        "          numguess += 1\n",
        "          if int(userguess) >= value:\n",
        "            print(\"Too high!\")\n",
        "          else:\n",
        "            print(\"Too low!\")\n",
        "  except:\n",
        "    print(\"Please enter a whole number!\")\n",
        "\n",
        "\n",
        "\n"
      ]
    },
    {
      "cell_type": "markdown",
      "source": [
        "It took me approximately 40 minutes to complete this assignment."
      ],
      "metadata": {
        "id": "aiEAKBxAoj9D"
      }
    }
  ]
}