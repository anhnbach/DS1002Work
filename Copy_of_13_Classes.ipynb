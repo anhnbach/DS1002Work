{
  "nbformat": 4,
  "nbformat_minor": 0,
  "metadata": {
    "colab": {
      "provenance": [],
      "include_colab_link": true
    },
    "kernelspec": {
      "name": "python3",
      "display_name": "Python 3"
    },
    "language_info": {
      "name": "python"
    }
  },
  "cells": [
    {
      "cell_type": "markdown",
      "metadata": {
        "id": "view-in-github",
        "colab_type": "text"
      },
      "source": [
        "<a href=\"https://colab.research.google.com/github/anhnbach/DS1002Work/blob/main/Copy_of_13_Classes.ipynb\" target=\"_parent\"><img src=\"https://colab.research.google.com/assets/colab-badge.svg\" alt=\"Open In Colab\"/></a>"
      ]
    },
    {
      "cell_type": "markdown",
      "source": [
        "## Assignment:  Classes\n",
        "### Due Sunday 28 April at 10pm"
      ],
      "metadata": {
        "id": "5Vy93BSp9Tum"
      }
    },
    {
      "cell_type": "markdown",
      "source": [
        "1.  Define a class called `Person` that has attributes `lastName`, `firstName`, `mother`, and `father`.  Both `mother` and `father` should have default value `unknown`.\n",
        "\n",
        "  Include a `__str__()` function that returns a string of the form '`firstName` `lastName`'.\n",
        "\n",
        "  Include a `__repr__()` function that returns a string that can be evaluated to recreate the `Person` object.\n",
        "\n"
      ],
      "metadata": {
        "id": "vcj5XQAI9Wsb"
      }
    },
    {
      "cell_type": "code",
      "source": [
        "class Person:\n",
        "  def __init__(self, lastName, firstName, mother = \"unknown\", father = \"unknown\"):\n",
        "    self.lastName = lastName\n",
        "    self.firstName = firstName\n",
        "    self.mother = mother\n",
        "    self.father = father\n",
        "\n",
        "  def __str__(self):\n",
        "    return f\"{self.firstName} {self.lastName}\"\n",
        "\n",
        "  def __repr__(self):\n",
        "    return f\"Person('{self.lastName}', '{self.firstName}', '{self.mother}', '{self.father}')\""
      ],
      "metadata": {
        "id": "mjHDwHv3EpVe"
      },
      "execution_count": 87,
      "outputs": []
    },
    {
      "cell_type": "markdown",
      "source": [
        "Create a person (i.e., a `Person` object) called `p` with unknown parents.  (You will need to give your person a first and last name.) Check the type of `p`.  Include all inputs and outputs."
      ],
      "metadata": {
        "id": "-ppMsEIVHINl"
      }
    },
    {
      "cell_type": "code",
      "source": [
        "p = Person(\"Russell\", \"George\")\n",
        "\n",
        "print(p)\n",
        "\n",
        "print(type(p))\n",
        "#p is an onject of the Person class"
      ],
      "metadata": {
        "id": "5bwid_6gHIBH",
        "colab": {
          "base_uri": "https://localhost:8080/"
        },
        "outputId": "98b944f2-5921-4d9e-8475-25ec97ffae3a"
      },
      "execution_count": 103,
      "outputs": [
        {
          "output_type": "stream",
          "name": "stdout",
          "text": [
            "George Russell\n",
            "<class '__main__.Person'>\n"
          ]
        }
      ]
    },
    {
      "cell_type": "markdown",
      "source": [
        "Verify that your `__str__` and `__repr__` functions are doing what they are supposed to do.  Include all inputs and outputs."
      ],
      "metadata": {
        "id": "Z6zlUC3xRtal"
      }
    },
    {
      "cell_type": "code",
      "source": [
        "print(str(p))\n",
        "print(type(str(p)))\n",
        "#str method is correctly returning a string containing firstName and lastName\n",
        "\n",
        "print(repr(p))\n",
        "print(type(repr(p)))\n",
        "#repr is returning a string that can be evaluated to recreate the person object"
      ],
      "metadata": {
        "id": "jZO0dBQYRs-K",
        "colab": {
          "base_uri": "https://localhost:8080/"
        },
        "outputId": "9f039990-a3e1-494e-f549-dc3f2c2cd3b0"
      },
      "execution_count": 106,
      "outputs": [
        {
          "output_type": "stream",
          "name": "stdout",
          "text": [
            "George Russell\n",
            "<class 'str'>\n",
            "Person('Russell', 'George', 'unknown', 'unknown')\n",
            "<class 'str'>\n"
          ]
        }
      ]
    },
    {
      "cell_type": "markdown",
      "source": [
        "Suppose the mother of `p` has been found and is named Taylor Swift.  Create a new person named Taylor Swift, and make her the mother of `p`:\n",
        "\n",
        "```\n",
        "> p.mother\n",
        "'Taylor Swift'\n",
        "```"
      ],
      "metadata": {
        "id": "1mOAThQiHzoQ"
      }
    },
    {
      "cell_type": "code",
      "source": [
        "ts = Person(\"Switft\", \"Taylor\")\n",
        "\n",
        "p.mother = ts\n",
        "#setting p's mother as Taylor Swift\n",
        "\n",
        "print(p.mother)\n",
        "#checking for p's mother"
      ],
      "metadata": {
        "id": "NYbDOorpHymz",
        "colab": {
          "base_uri": "https://localhost:8080/"
        },
        "outputId": "0584569d-1cf0-4249-b649-4b90c8d33737"
      },
      "execution_count": 107,
      "outputs": [
        {
          "output_type": "stream",
          "name": "stdout",
          "text": [
            "Taylor Switft\n"
          ]
        }
      ]
    },
    {
      "cell_type": "markdown",
      "source": [
        "2.  Add some methods to your class.  Start by copying the `class` definition you already wrote.  Then, inside the `class` definition:\n",
        "\n",
        "  (a) Write a method called `unknownParent()` which returns `True` if any parent is 'unknown' and `False` otherwise.\n",
        "\n",
        "  (b) Write a method called `maternalGrandmother()` which returns the mother's mother.  If the mother is unknown, it should return 'unknown'.\n",
        "\n"
      ],
      "metadata": {
        "id": "1g1pcrmFHzGh"
      }
    },
    {
      "cell_type": "code",
      "source": [
        "class Person:\n",
        "  def __init__(self, lastName, firstName, mother = \"unknown\", father = \"unknown\"):\n",
        "    self.lastName = lastName\n",
        "    self.firstName = firstName\n",
        "    self.mother = mother\n",
        "    self.father = father\n",
        "\n",
        "  def __str__(self):\n",
        "    return f\"{self.firstName} {self.lastName}\"\n",
        "\n",
        "  def __repr__(self):\n",
        "    return f\"Person('{self.lastName}', '{self.firstName}', '{self.mother}', '{self.father}')\"\n",
        "\n",
        "  def unknownParent(self):\n",
        "    return self.mother == \"unknown\" or self.father == \"unknown\"\n",
        "    #should return True if either parents are \"unknown\" and False if both are assigned\n",
        "\n",
        "  def maternalGrandmother(self):\n",
        "    if self.mother == \"unknown\":\n",
        "      return \"unknown\"\n",
        "    else:\n",
        "      return self.mother.mother\n",
        "      #returning mother object's mother, which should be grandmother\n"
      ],
      "metadata": {
        "id": "7mIxJGwwKTpv"
      },
      "execution_count": 97,
      "outputs": []
    },
    {
      "cell_type": "markdown",
      "source": [
        "Create enough `Person` objects to test whether your methods are working properly.  Show all your inputs and outputs.  It is up to you to demonstrate that you have thoroughly tested the code.  You may use additional code and/or text chunks if it helps."
      ],
      "metadata": {
        "id": "l9-4gxd8FxAQ"
      }
    },
    {
      "cell_type": "code",
      "source": [
        "a = Person(\"Nguyen\", \"Nam\")\n",
        "\n",
        "b = Person(\"Nguyen\", \"Beth\")\n",
        "a.mother = b\n",
        "#setting Beth Nguyen as Nam Nguyen's mother\n",
        "\n",
        "c = Person(\"Nguyen\",\"Tim\")\n",
        "a.father = c\n",
        "#Setting Tim Nguyen as Nam Nguyen's father\n",
        "\n",
        "d = Person(\"Nguyen\",\"Karen\" )\n",
        "b.mother = d\n",
        "#Setting Karen Nguyen as Beth Nguyen's mother\n",
        "\n",
        "print(repr(a))\n",
        "#checking if Nam Nguyen has both mother and father assigned\n",
        "\n",
        "print(repr(b))\n",
        "#checking if Beth Nguyen has Karen Nguyen as mother\n",
        "\n",
        "print(a.unknownParent())\n",
        "#Should return False since Nam Nguyen has both parents assigned\n",
        "\n",
        "print(b.unknownParent())\n",
        "#Should return True since Beth Nguyen has mother assigned and father as \"Unknown\"\n",
        "\n",
        "print(c.unknownParent())\n",
        "#Should return True since Tim Nguyen has both parents as \"Unknown\"\n",
        "\n",
        "print(a.maternalGrandmother())\n",
        "#Should return Karen Nguyen since Beth Nguyen's mother is Karen Nguyen\n",
        "\n",
        "print(b.maternalGrandmother())\n",
        "#Should return \"Unknown\" since Beth Nguyen's mother is \"Unknown\""
      ],
      "metadata": {
        "id": "gX1qpcKzFwoZ",
        "colab": {
          "base_uri": "https://localhost:8080/"
        },
        "outputId": "a3b9b8d5-fe81-4ef7-a788-0eaa8d6e34d9"
      },
      "execution_count": 108,
      "outputs": [
        {
          "output_type": "stream",
          "name": "stdout",
          "text": [
            "Person('Nguyen', 'Nam', 'Beth Nguyen', 'Tim Nguyen')\n",
            "Person('Nguyen', 'Beth', 'Karen Nguyen', 'unknown')\n",
            "False\n",
            "True\n",
            "True\n",
            "Karen Nguyen\n",
            "unknown\n"
          ]
        }
      ]
    }
  ]
}